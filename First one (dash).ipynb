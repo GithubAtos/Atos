{
 "cells": [
  {
   "cell_type": "code",
   "execution_count": 20,
   "metadata": {},
   "outputs": [],
   "source": [
    "import plotly.express as px\n",
    "from jupyter_dash import JupyterDash\n",
    "import dash\n",
    "import dash_core_components as dcc\n",
    "import dash_html_components as html\n",
    "from dash.dependencies import Input, Output\n",
    "import pandas as pd \n",
    "import matplotlib.pyplot as plt\n",
    "import numpy as np\n",
    "from matplotlib.pyplot import figure\n",
    "import seaborn as sns\n",
    "import datetime\n",
    "df = pd.read_excel('CBS_IE_formatted.xlsx')"
   ]
  },
  {
   "cell_type": "code",
   "execution_count": 21,
   "metadata": {},
   "outputs": [
    {
     "data": {
      "text/html": [
       "<div>\n",
       "<style scoped>\n",
       "    .dataframe tbody tr th:only-of-type {\n",
       "        vertical-align: middle;\n",
       "    }\n",
       "\n",
       "    .dataframe tbody tr th {\n",
       "        vertical-align: top;\n",
       "    }\n",
       "\n",
       "    .dataframe thead th {\n",
       "        text-align: right;\n",
       "    }\n",
       "</style>\n",
       "<table border=\"1\" class=\"dataframe\">\n",
       "  <thead>\n",
       "    <tr style=\"text-align: right;\">\n",
       "      <th></th>\n",
       "      <th>Perioden</th>\n",
       "      <th>BrutoProductie_1</th>\n",
       "      <th>EigenVerbruikBijElektrProductie_2</th>\n",
       "      <th>NettoProductieTotaal_3</th>\n",
       "      <th>Kernenergie_4</th>\n",
       "      <th>BrandstoffenTotaal_5</th>\n",
       "      <th>Kolen_6</th>\n",
       "      <th>Olieproducten_7</th>\n",
       "      <th>Aardgas_8</th>\n",
       "      <th>Biomassa_9</th>\n",
       "      <th>...</th>\n",
       "      <th>VerenigdKoninkrijk_21</th>\n",
       "      <th>Noorwegen_22</th>\n",
       "      <th>UitvoerTotaal_23</th>\n",
       "      <th>Belgie_24</th>\n",
       "      <th>Denemarken_25</th>\n",
       "      <th>Duitsland_26</th>\n",
       "      <th>VerenigdKoninkrijk_27</th>\n",
       "      <th>Noorwegen_28</th>\n",
       "      <th>Distributieverliezen_29</th>\n",
       "      <th>NettoVerbruikBerekend_30</th>\n",
       "    </tr>\n",
       "  </thead>\n",
       "  <tbody>\n",
       "    <tr>\n",
       "      <th>0</th>\n",
       "      <td>1929JJ00</td>\n",
       "      <td>NaN</td>\n",
       "      <td>NaN</td>\n",
       "      <td>NaN</td>\n",
       "      <td>NaN</td>\n",
       "      <td>NaN</td>\n",
       "      <td>NaN</td>\n",
       "      <td>NaN</td>\n",
       "      <td>NaN</td>\n",
       "      <td>NaN</td>\n",
       "      <td>...</td>\n",
       "      <td>NaN</td>\n",
       "      <td>NaN</td>\n",
       "      <td>0</td>\n",
       "      <td>0.0</td>\n",
       "      <td>NaN</td>\n",
       "      <td>0</td>\n",
       "      <td>NaN</td>\n",
       "      <td>NaN</td>\n",
       "      <td>NaN</td>\n",
       "      <td>NaN</td>\n",
       "    </tr>\n",
       "    <tr>\n",
       "      <th>1</th>\n",
       "      <td>1930JJ00</td>\n",
       "      <td>NaN</td>\n",
       "      <td>NaN</td>\n",
       "      <td>NaN</td>\n",
       "      <td>NaN</td>\n",
       "      <td>NaN</td>\n",
       "      <td>NaN</td>\n",
       "      <td>NaN</td>\n",
       "      <td>NaN</td>\n",
       "      <td>NaN</td>\n",
       "      <td>...</td>\n",
       "      <td>NaN</td>\n",
       "      <td>NaN</td>\n",
       "      <td>0</td>\n",
       "      <td>0.0</td>\n",
       "      <td>NaN</td>\n",
       "      <td>0</td>\n",
       "      <td>NaN</td>\n",
       "      <td>NaN</td>\n",
       "      <td>NaN</td>\n",
       "      <td>NaN</td>\n",
       "    </tr>\n",
       "    <tr>\n",
       "      <th>2</th>\n",
       "      <td>1931JJ00</td>\n",
       "      <td>NaN</td>\n",
       "      <td>NaN</td>\n",
       "      <td>NaN</td>\n",
       "      <td>NaN</td>\n",
       "      <td>NaN</td>\n",
       "      <td>NaN</td>\n",
       "      <td>NaN</td>\n",
       "      <td>NaN</td>\n",
       "      <td>NaN</td>\n",
       "      <td>...</td>\n",
       "      <td>NaN</td>\n",
       "      <td>NaN</td>\n",
       "      <td>0</td>\n",
       "      <td>0.0</td>\n",
       "      <td>NaN</td>\n",
       "      <td>0</td>\n",
       "      <td>NaN</td>\n",
       "      <td>NaN</td>\n",
       "      <td>NaN</td>\n",
       "      <td>NaN</td>\n",
       "    </tr>\n",
       "    <tr>\n",
       "      <th>3</th>\n",
       "      <td>1932JJ00</td>\n",
       "      <td>NaN</td>\n",
       "      <td>NaN</td>\n",
       "      <td>NaN</td>\n",
       "      <td>NaN</td>\n",
       "      <td>NaN</td>\n",
       "      <td>NaN</td>\n",
       "      <td>NaN</td>\n",
       "      <td>NaN</td>\n",
       "      <td>NaN</td>\n",
       "      <td>...</td>\n",
       "      <td>NaN</td>\n",
       "      <td>NaN</td>\n",
       "      <td>0</td>\n",
       "      <td>0.0</td>\n",
       "      <td>NaN</td>\n",
       "      <td>0</td>\n",
       "      <td>NaN</td>\n",
       "      <td>NaN</td>\n",
       "      <td>NaN</td>\n",
       "      <td>NaN</td>\n",
       "    </tr>\n",
       "    <tr>\n",
       "      <th>4</th>\n",
       "      <td>1933JJ00</td>\n",
       "      <td>NaN</td>\n",
       "      <td>NaN</td>\n",
       "      <td>NaN</td>\n",
       "      <td>NaN</td>\n",
       "      <td>NaN</td>\n",
       "      <td>NaN</td>\n",
       "      <td>NaN</td>\n",
       "      <td>NaN</td>\n",
       "      <td>NaN</td>\n",
       "      <td>...</td>\n",
       "      <td>NaN</td>\n",
       "      <td>NaN</td>\n",
       "      <td>0</td>\n",
       "      <td>0.0</td>\n",
       "      <td>NaN</td>\n",
       "      <td>0</td>\n",
       "      <td>NaN</td>\n",
       "      <td>NaN</td>\n",
       "      <td>NaN</td>\n",
       "      <td>NaN</td>\n",
       "    </tr>\n",
       "    <tr>\n",
       "      <th>...</th>\n",
       "      <td>...</td>\n",
       "      <td>...</td>\n",
       "      <td>...</td>\n",
       "      <td>...</td>\n",
       "      <td>...</td>\n",
       "      <td>...</td>\n",
       "      <td>...</td>\n",
       "      <td>...</td>\n",
       "      <td>...</td>\n",
       "      <td>...</td>\n",
       "      <td>...</td>\n",
       "      <td>...</td>\n",
       "      <td>...</td>\n",
       "      <td>...</td>\n",
       "      <td>...</td>\n",
       "      <td>...</td>\n",
       "      <td>...</td>\n",
       "      <td>...</td>\n",
       "      <td>...</td>\n",
       "      <td>...</td>\n",
       "      <td>...</td>\n",
       "    </tr>\n",
       "    <tr>\n",
       "      <th>628</th>\n",
       "      <td>2020MM10</td>\n",
       "      <td>10499.0</td>\n",
       "      <td>300.0</td>\n",
       "      <td>10199.0</td>\n",
       "      <td>354.0</td>\n",
       "      <td>7507.0</td>\n",
       "      <td>1097.0</td>\n",
       "      <td>107.0</td>\n",
       "      <td>5435.0</td>\n",
       "      <td>727.0</td>\n",
       "      <td>...</td>\n",
       "      <td>27.0</td>\n",
       "      <td>508.0</td>\n",
       "      <td>1930</td>\n",
       "      <td>1127.0</td>\n",
       "      <td>0.0</td>\n",
       "      <td>259</td>\n",
       "      <td>540.0</td>\n",
       "      <td>5.0</td>\n",
       "      <td>435.0</td>\n",
       "      <td>9675.0</td>\n",
       "    </tr>\n",
       "    <tr>\n",
       "      <th>629</th>\n",
       "      <td>2020MM11</td>\n",
       "      <td>10427.0</td>\n",
       "      <td>301.0</td>\n",
       "      <td>10126.0</td>\n",
       "      <td>301.0</td>\n",
       "      <td>7908.0</td>\n",
       "      <td>1073.0</td>\n",
       "      <td>86.0</td>\n",
       "      <td>5873.0</td>\n",
       "      <td>745.0</td>\n",
       "      <td>...</td>\n",
       "      <td>45.0</td>\n",
       "      <td>350.0</td>\n",
       "      <td>1850</td>\n",
       "      <td>911.0</td>\n",
       "      <td>0.0</td>\n",
       "      <td>481</td>\n",
       "      <td>455.0</td>\n",
       "      <td>3.0</td>\n",
       "      <td>446.0</td>\n",
       "      <td>9621.0</td>\n",
       "    </tr>\n",
       "    <tr>\n",
       "      <th>630</th>\n",
       "      <td>2020MM12</td>\n",
       "      <td>10849.0</td>\n",
       "      <td>318.0</td>\n",
       "      <td>10531.0</td>\n",
       "      <td>357.0</td>\n",
       "      <td>8202.0</td>\n",
       "      <td>1075.0</td>\n",
       "      <td>80.0</td>\n",
       "      <td>6092.0</td>\n",
       "      <td>812.0</td>\n",
       "      <td>...</td>\n",
       "      <td>14.0</td>\n",
       "      <td>460.0</td>\n",
       "      <td>1597</td>\n",
       "      <td>919.0</td>\n",
       "      <td>0.0</td>\n",
       "      <td>555</td>\n",
       "      <td>123.0</td>\n",
       "      <td>0.0</td>\n",
       "      <td>466.0</td>\n",
       "      <td>10196.0</td>\n",
       "    </tr>\n",
       "    <tr>\n",
       "      <th>631</th>\n",
       "      <td>2020JJ00</td>\n",
       "      <td>122377.0</td>\n",
       "      <td>3457.0</td>\n",
       "      <td>118920.0</td>\n",
       "      <td>3865.0</td>\n",
       "      <td>91178.0</td>\n",
       "      <td>9597.0</td>\n",
       "      <td>1295.0</td>\n",
       "      <td>70848.0</td>\n",
       "      <td>7785.0</td>\n",
       "      <td>...</td>\n",
       "      <td>541.0</td>\n",
       "      <td>4621.0</td>\n",
       "      <td>22433</td>\n",
       "      <td>7806.0</td>\n",
       "      <td>1053.0</td>\n",
       "      <td>8677</td>\n",
       "      <td>4787.0</td>\n",
       "      <td>110.0</td>\n",
       "      <td>5053.0</td>\n",
       "      <td>111208.0</td>\n",
       "    </tr>\n",
       "    <tr>\n",
       "      <th>632</th>\n",
       "      <td>2021MM01</td>\n",
       "      <td>11521.0</td>\n",
       "      <td>336.0</td>\n",
       "      <td>11185.0</td>\n",
       "      <td>358.0</td>\n",
       "      <td>8791.0</td>\n",
       "      <td>1589.0</td>\n",
       "      <td>84.0</td>\n",
       "      <td>6070.0</td>\n",
       "      <td>912.0</td>\n",
       "      <td>...</td>\n",
       "      <td>0.0</td>\n",
       "      <td>130.0</td>\n",
       "      <td>1667</td>\n",
       "      <td>1146.0</td>\n",
       "      <td>97.0</td>\n",
       "      <td>368</td>\n",
       "      <td>0.0</td>\n",
       "      <td>56.0</td>\n",
       "      <td>472.0</td>\n",
       "      <td>10589.0</td>\n",
       "    </tr>\n",
       "  </tbody>\n",
       "</table>\n",
       "<p>633 rows × 31 columns</p>\n",
       "</div>"
      ],
      "text/plain": [
       "     Perioden  BrutoProductie_1  EigenVerbruikBijElektrProductie_2  \\\n",
       "0    1929JJ00               NaN                                NaN   \n",
       "1    1930JJ00               NaN                                NaN   \n",
       "2    1931JJ00               NaN                                NaN   \n",
       "3    1932JJ00               NaN                                NaN   \n",
       "4    1933JJ00               NaN                                NaN   \n",
       "..        ...               ...                                ...   \n",
       "628  2020MM10           10499.0                              300.0   \n",
       "629  2020MM11           10427.0                              301.0   \n",
       "630  2020MM12           10849.0                              318.0   \n",
       "631  2020JJ00          122377.0                             3457.0   \n",
       "632  2021MM01           11521.0                              336.0   \n",
       "\n",
       "     NettoProductieTotaal_3  Kernenergie_4  BrandstoffenTotaal_5  Kolen_6  \\\n",
       "0                       NaN            NaN                   NaN      NaN   \n",
       "1                       NaN            NaN                   NaN      NaN   \n",
       "2                       NaN            NaN                   NaN      NaN   \n",
       "3                       NaN            NaN                   NaN      NaN   \n",
       "4                       NaN            NaN                   NaN      NaN   \n",
       "..                      ...            ...                   ...      ...   \n",
       "628                 10199.0          354.0                7507.0   1097.0   \n",
       "629                 10126.0          301.0                7908.0   1073.0   \n",
       "630                 10531.0          357.0                8202.0   1075.0   \n",
       "631                118920.0         3865.0               91178.0   9597.0   \n",
       "632                 11185.0          358.0                8791.0   1589.0   \n",
       "\n",
       "     Olieproducten_7  Aardgas_8  Biomassa_9  ...  VerenigdKoninkrijk_21  \\\n",
       "0                NaN        NaN         NaN  ...                    NaN   \n",
       "1                NaN        NaN         NaN  ...                    NaN   \n",
       "2                NaN        NaN         NaN  ...                    NaN   \n",
       "3                NaN        NaN         NaN  ...                    NaN   \n",
       "4                NaN        NaN         NaN  ...                    NaN   \n",
       "..               ...        ...         ...  ...                    ...   \n",
       "628            107.0     5435.0       727.0  ...                   27.0   \n",
       "629             86.0     5873.0       745.0  ...                   45.0   \n",
       "630             80.0     6092.0       812.0  ...                   14.0   \n",
       "631           1295.0    70848.0      7785.0  ...                  541.0   \n",
       "632             84.0     6070.0       912.0  ...                    0.0   \n",
       "\n",
       "     Noorwegen_22  UitvoerTotaal_23  Belgie_24  Denemarken_25  Duitsland_26  \\\n",
       "0             NaN                 0        0.0            NaN             0   \n",
       "1             NaN                 0        0.0            NaN             0   \n",
       "2             NaN                 0        0.0            NaN             0   \n",
       "3             NaN                 0        0.0            NaN             0   \n",
       "4             NaN                 0        0.0            NaN             0   \n",
       "..            ...               ...        ...            ...           ...   \n",
       "628         508.0              1930     1127.0            0.0           259   \n",
       "629         350.0              1850      911.0            0.0           481   \n",
       "630         460.0              1597      919.0            0.0           555   \n",
       "631        4621.0             22433     7806.0         1053.0          8677   \n",
       "632         130.0              1667     1146.0           97.0           368   \n",
       "\n",
       "     VerenigdKoninkrijk_27  Noorwegen_28  Distributieverliezen_29  \\\n",
       "0                      NaN           NaN                      NaN   \n",
       "1                      NaN           NaN                      NaN   \n",
       "2                      NaN           NaN                      NaN   \n",
       "3                      NaN           NaN                      NaN   \n",
       "4                      NaN           NaN                      NaN   \n",
       "..                     ...           ...                      ...   \n",
       "628                  540.0           5.0                    435.0   \n",
       "629                  455.0           3.0                    446.0   \n",
       "630                  123.0           0.0                    466.0   \n",
       "631                 4787.0         110.0                   5053.0   \n",
       "632                    0.0          56.0                    472.0   \n",
       "\n",
       "     NettoVerbruikBerekend_30  \n",
       "0                         NaN  \n",
       "1                         NaN  \n",
       "2                         NaN  \n",
       "3                         NaN  \n",
       "4                         NaN  \n",
       "..                        ...  \n",
       "628                    9675.0  \n",
       "629                    9621.0  \n",
       "630                   10196.0  \n",
       "631                  111208.0  \n",
       "632                   10589.0  \n",
       "\n",
       "[633 rows x 31 columns]"
      ]
     },
     "execution_count": 21,
     "metadata": {},
     "output_type": "execute_result"
    }
   ],
   "source": [
    "df"
   ]
  },
  {
   "cell_type": "code",
   "execution_count": 22,
   "metadata": {},
   "outputs": [],
   "source": [
    "#I will put a new name to columns I want use \n",
    "df.rename({'Perioden':'Period',\n",
    "             'BrutoProductie_1':'Gross production', \n",
    "             'EigenVerbruikBijElektrProductie_2': 'Own consumption for electricity production',\n",
    "             'NettoProductieTotaal_3': 'Net production | Total',\n",
    "             'Kernenergie_4':'Nuclear energy',\n",
    "             'BrandstoffenTotaal_5': 'Fuels',\n",
    "             'Kolen_6':'Coal',\n",
    "             'Olieproducten_7': 'Oil products',\n",
    "             'Aardgas_8':'Natural gas',\n",
    "             'Biomassa_9':'Biomass', 'OverigeBrandstoffenNietHernieuwbaar_10':'Other Fuels Not Renewable',\n",
    "             'Waterkracht_11':'Hydropower',\n",
    "             'WindenergieTotaal_12':'Wind energy|Total',\n",
    "             'WindenergieOpLand_13':'Wind energy on land',\n",
    "             'WindenergieOpZee_14':'Wind energy at sea',\n",
    "             'Zonnestroom_15':'Solar power',\n",
    "             'OverigeBronnen_16':'Other sources' }, axis = 'columns',inplace=True)"
   ]
  },
  {
   "cell_type": "code",
   "execution_count": 23,
   "metadata": {},
   "outputs": [],
   "source": [
    "#I will clean the columns that I don't have to use \n",
    "df.drop([ 'InvoerTotaal_17',\n",
    "         'Belgie_18',\n",
    "         'Denemarken_19',\n",
    "         'Duitsland_20',\n",
    "         'VerenigdKoninkrijk_21',\n",
    "         'Noorwegen_22',\n",
    "         'UitvoerTotaal_23',\n",
    "         'Belgie_24',\n",
    "         'Denemarken_25',\n",
    "         'Duitsland_26',\n",
    "         'VerenigdKoninkrijk_27',\n",
    "         'Noorwegen_28',\n",
    "         'Distributieverliezen_29','NettoVerbruikBerekend_30'], axis = 'columns', inplace = True)"
   ]
  },
  {
   "cell_type": "code",
   "execution_count": 24,
   "metadata": {},
   "outputs": [],
   "source": [
    "df.fillna(0, inplace = True)"
   ]
  },
  {
   "cell_type": "code",
   "execution_count": 25,
   "metadata": {},
   "outputs": [
    {
     "data": {
      "text/html": [
       "<div>\n",
       "<style scoped>\n",
       "    .dataframe tbody tr th:only-of-type {\n",
       "        vertical-align: middle;\n",
       "    }\n",
       "\n",
       "    .dataframe tbody tr th {\n",
       "        vertical-align: top;\n",
       "    }\n",
       "\n",
       "    .dataframe thead th {\n",
       "        text-align: right;\n",
       "    }\n",
       "</style>\n",
       "<table border=\"1\" class=\"dataframe\">\n",
       "  <thead>\n",
       "    <tr style=\"text-align: right;\">\n",
       "      <th></th>\n",
       "      <th>Period</th>\n",
       "      <th>Gross production</th>\n",
       "      <th>Own consumption for electricity production</th>\n",
       "      <th>Net production | Total</th>\n",
       "      <th>Nuclear energy</th>\n",
       "      <th>Fuels</th>\n",
       "      <th>Coal</th>\n",
       "      <th>Oil products</th>\n",
       "      <th>Natural gas</th>\n",
       "      <th>Biomass</th>\n",
       "      <th>Other Fuels Not Renewable</th>\n",
       "      <th>Hydropower</th>\n",
       "      <th>Wind energy|Total</th>\n",
       "      <th>Wind energy on land</th>\n",
       "      <th>Wind energy at sea</th>\n",
       "      <th>Solar power</th>\n",
       "      <th>Other sources</th>\n",
       "    </tr>\n",
       "  </thead>\n",
       "  <tbody>\n",
       "    <tr>\n",
       "      <th>0</th>\n",
       "      <td>1929JJ00</td>\n",
       "      <td>0.0</td>\n",
       "      <td>0.0</td>\n",
       "      <td>0.0</td>\n",
       "      <td>0.0</td>\n",
       "      <td>0.0</td>\n",
       "      <td>0.0</td>\n",
       "      <td>0.0</td>\n",
       "      <td>0.0</td>\n",
       "      <td>0.0</td>\n",
       "      <td>0.0</td>\n",
       "      <td>0.0</td>\n",
       "      <td>0.0</td>\n",
       "      <td>0.0</td>\n",
       "      <td>0.0</td>\n",
       "      <td>0.0</td>\n",
       "      <td>0.0</td>\n",
       "    </tr>\n",
       "    <tr>\n",
       "      <th>1</th>\n",
       "      <td>1930JJ00</td>\n",
       "      <td>0.0</td>\n",
       "      <td>0.0</td>\n",
       "      <td>0.0</td>\n",
       "      <td>0.0</td>\n",
       "      <td>0.0</td>\n",
       "      <td>0.0</td>\n",
       "      <td>0.0</td>\n",
       "      <td>0.0</td>\n",
       "      <td>0.0</td>\n",
       "      <td>0.0</td>\n",
       "      <td>0.0</td>\n",
       "      <td>0.0</td>\n",
       "      <td>0.0</td>\n",
       "      <td>0.0</td>\n",
       "      <td>0.0</td>\n",
       "      <td>0.0</td>\n",
       "    </tr>\n",
       "    <tr>\n",
       "      <th>2</th>\n",
       "      <td>1931JJ00</td>\n",
       "      <td>0.0</td>\n",
       "      <td>0.0</td>\n",
       "      <td>0.0</td>\n",
       "      <td>0.0</td>\n",
       "      <td>0.0</td>\n",
       "      <td>0.0</td>\n",
       "      <td>0.0</td>\n",
       "      <td>0.0</td>\n",
       "      <td>0.0</td>\n",
       "      <td>0.0</td>\n",
       "      <td>0.0</td>\n",
       "      <td>0.0</td>\n",
       "      <td>0.0</td>\n",
       "      <td>0.0</td>\n",
       "      <td>0.0</td>\n",
       "      <td>0.0</td>\n",
       "    </tr>\n",
       "    <tr>\n",
       "      <th>3</th>\n",
       "      <td>1932JJ00</td>\n",
       "      <td>0.0</td>\n",
       "      <td>0.0</td>\n",
       "      <td>0.0</td>\n",
       "      <td>0.0</td>\n",
       "      <td>0.0</td>\n",
       "      <td>0.0</td>\n",
       "      <td>0.0</td>\n",
       "      <td>0.0</td>\n",
       "      <td>0.0</td>\n",
       "      <td>0.0</td>\n",
       "      <td>0.0</td>\n",
       "      <td>0.0</td>\n",
       "      <td>0.0</td>\n",
       "      <td>0.0</td>\n",
       "      <td>0.0</td>\n",
       "      <td>0.0</td>\n",
       "    </tr>\n",
       "    <tr>\n",
       "      <th>4</th>\n",
       "      <td>1933JJ00</td>\n",
       "      <td>0.0</td>\n",
       "      <td>0.0</td>\n",
       "      <td>0.0</td>\n",
       "      <td>0.0</td>\n",
       "      <td>0.0</td>\n",
       "      <td>0.0</td>\n",
       "      <td>0.0</td>\n",
       "      <td>0.0</td>\n",
       "      <td>0.0</td>\n",
       "      <td>0.0</td>\n",
       "      <td>0.0</td>\n",
       "      <td>0.0</td>\n",
       "      <td>0.0</td>\n",
       "      <td>0.0</td>\n",
       "      <td>0.0</td>\n",
       "      <td>0.0</td>\n",
       "    </tr>\n",
       "    <tr>\n",
       "      <th>...</th>\n",
       "      <td>...</td>\n",
       "      <td>...</td>\n",
       "      <td>...</td>\n",
       "      <td>...</td>\n",
       "      <td>...</td>\n",
       "      <td>...</td>\n",
       "      <td>...</td>\n",
       "      <td>...</td>\n",
       "      <td>...</td>\n",
       "      <td>...</td>\n",
       "      <td>...</td>\n",
       "      <td>...</td>\n",
       "      <td>...</td>\n",
       "      <td>...</td>\n",
       "      <td>...</td>\n",
       "      <td>...</td>\n",
       "      <td>...</td>\n",
       "    </tr>\n",
       "    <tr>\n",
       "      <th>628</th>\n",
       "      <td>2020MM10</td>\n",
       "      <td>10499.0</td>\n",
       "      <td>300.0</td>\n",
       "      <td>10199.0</td>\n",
       "      <td>354.0</td>\n",
       "      <td>7507.0</td>\n",
       "      <td>1097.0</td>\n",
       "      <td>107.0</td>\n",
       "      <td>5435.0</td>\n",
       "      <td>727.0</td>\n",
       "      <td>141.0</td>\n",
       "      <td>3.0</td>\n",
       "      <td>1946.0</td>\n",
       "      <td>1026.0</td>\n",
       "      <td>920.0</td>\n",
       "      <td>339.0</td>\n",
       "      <td>50.0</td>\n",
       "    </tr>\n",
       "    <tr>\n",
       "      <th>629</th>\n",
       "      <td>2020MM11</td>\n",
       "      <td>10427.0</td>\n",
       "      <td>301.0</td>\n",
       "      <td>10126.0</td>\n",
       "      <td>301.0</td>\n",
       "      <td>7908.0</td>\n",
       "      <td>1073.0</td>\n",
       "      <td>86.0</td>\n",
       "      <td>5873.0</td>\n",
       "      <td>745.0</td>\n",
       "      <td>131.0</td>\n",
       "      <td>3.0</td>\n",
       "      <td>1630.0</td>\n",
       "      <td>892.0</td>\n",
       "      <td>739.0</td>\n",
       "      <td>234.0</td>\n",
       "      <td>49.0</td>\n",
       "    </tr>\n",
       "    <tr>\n",
       "      <th>630</th>\n",
       "      <td>2020MM12</td>\n",
       "      <td>10849.0</td>\n",
       "      <td>318.0</td>\n",
       "      <td>10531.0</td>\n",
       "      <td>357.0</td>\n",
       "      <td>8202.0</td>\n",
       "      <td>1075.0</td>\n",
       "      <td>80.0</td>\n",
       "      <td>6092.0</td>\n",
       "      <td>812.0</td>\n",
       "      <td>142.0</td>\n",
       "      <td>7.0</td>\n",
       "      <td>1789.0</td>\n",
       "      <td>918.0</td>\n",
       "      <td>870.0</td>\n",
       "      <td>126.0</td>\n",
       "      <td>50.0</td>\n",
       "    </tr>\n",
       "    <tr>\n",
       "      <th>631</th>\n",
       "      <td>2020JJ00</td>\n",
       "      <td>122377.0</td>\n",
       "      <td>3457.0</td>\n",
       "      <td>118920.0</td>\n",
       "      <td>3865.0</td>\n",
       "      <td>91178.0</td>\n",
       "      <td>9597.0</td>\n",
       "      <td>1295.0</td>\n",
       "      <td>70848.0</td>\n",
       "      <td>7785.0</td>\n",
       "      <td>1653.0</td>\n",
       "      <td>46.0</td>\n",
       "      <td>15268.0</td>\n",
       "      <td>9785.0</td>\n",
       "      <td>5484.0</td>\n",
       "      <td>8056.0</td>\n",
       "      <td>507.0</td>\n",
       "    </tr>\n",
       "    <tr>\n",
       "      <th>632</th>\n",
       "      <td>2021MM01</td>\n",
       "      <td>11521.0</td>\n",
       "      <td>336.0</td>\n",
       "      <td>11185.0</td>\n",
       "      <td>358.0</td>\n",
       "      <td>8791.0</td>\n",
       "      <td>1589.0</td>\n",
       "      <td>84.0</td>\n",
       "      <td>6070.0</td>\n",
       "      <td>912.0</td>\n",
       "      <td>137.0</td>\n",
       "      <td>7.0</td>\n",
       "      <td>1795.0</td>\n",
       "      <td>926.0</td>\n",
       "      <td>868.0</td>\n",
       "      <td>188.0</td>\n",
       "      <td>42.0</td>\n",
       "    </tr>\n",
       "  </tbody>\n",
       "</table>\n",
       "<p>633 rows × 17 columns</p>\n",
       "</div>"
      ],
      "text/plain": [
       "       Period  Gross production  Own consumption for electricity production  \\\n",
       "0    1929JJ00               0.0                                         0.0   \n",
       "1    1930JJ00               0.0                                         0.0   \n",
       "2    1931JJ00               0.0                                         0.0   \n",
       "3    1932JJ00               0.0                                         0.0   \n",
       "4    1933JJ00               0.0                                         0.0   \n",
       "..        ...               ...                                         ...   \n",
       "628  2020MM10           10499.0                                       300.0   \n",
       "629  2020MM11           10427.0                                       301.0   \n",
       "630  2020MM12           10849.0                                       318.0   \n",
       "631  2020JJ00          122377.0                                      3457.0   \n",
       "632  2021MM01           11521.0                                       336.0   \n",
       "\n",
       "     Net production | Total  Nuclear energy    Fuels    Coal  Oil products  \\\n",
       "0                       0.0             0.0      0.0     0.0           0.0   \n",
       "1                       0.0             0.0      0.0     0.0           0.0   \n",
       "2                       0.0             0.0      0.0     0.0           0.0   \n",
       "3                       0.0             0.0      0.0     0.0           0.0   \n",
       "4                       0.0             0.0      0.0     0.0           0.0   \n",
       "..                      ...             ...      ...     ...           ...   \n",
       "628                 10199.0           354.0   7507.0  1097.0         107.0   \n",
       "629                 10126.0           301.0   7908.0  1073.0          86.0   \n",
       "630                 10531.0           357.0   8202.0  1075.0          80.0   \n",
       "631                118920.0          3865.0  91178.0  9597.0        1295.0   \n",
       "632                 11185.0           358.0   8791.0  1589.0          84.0   \n",
       "\n",
       "     Natural gas  Biomass  Other Fuels Not Renewable  Hydropower  \\\n",
       "0            0.0      0.0                        0.0         0.0   \n",
       "1            0.0      0.0                        0.0         0.0   \n",
       "2            0.0      0.0                        0.0         0.0   \n",
       "3            0.0      0.0                        0.0         0.0   \n",
       "4            0.0      0.0                        0.0         0.0   \n",
       "..           ...      ...                        ...         ...   \n",
       "628       5435.0    727.0                      141.0         3.0   \n",
       "629       5873.0    745.0                      131.0         3.0   \n",
       "630       6092.0    812.0                      142.0         7.0   \n",
       "631      70848.0   7785.0                     1653.0        46.0   \n",
       "632       6070.0    912.0                      137.0         7.0   \n",
       "\n",
       "     Wind energy|Total  Wind energy on land  Wind energy at sea  Solar power  \\\n",
       "0                  0.0                  0.0                 0.0          0.0   \n",
       "1                  0.0                  0.0                 0.0          0.0   \n",
       "2                  0.0                  0.0                 0.0          0.0   \n",
       "3                  0.0                  0.0                 0.0          0.0   \n",
       "4                  0.0                  0.0                 0.0          0.0   \n",
       "..                 ...                  ...                 ...          ...   \n",
       "628             1946.0               1026.0               920.0        339.0   \n",
       "629             1630.0                892.0               739.0        234.0   \n",
       "630             1789.0                918.0               870.0        126.0   \n",
       "631            15268.0               9785.0              5484.0       8056.0   \n",
       "632             1795.0                926.0               868.0        188.0   \n",
       "\n",
       "     Other sources  \n",
       "0              0.0  \n",
       "1              0.0  \n",
       "2              0.0  \n",
       "3              0.0  \n",
       "4              0.0  \n",
       "..             ...  \n",
       "628           50.0  \n",
       "629           49.0  \n",
       "630           50.0  \n",
       "631          507.0  \n",
       "632           42.0  \n",
       "\n",
       "[633 rows x 17 columns]"
      ]
     },
     "execution_count": 25,
     "metadata": {},
     "output_type": "execute_result"
    }
   ],
   "source": [
    "df"
   ]
  },
  {
   "cell_type": "code",
   "execution_count": 26,
   "metadata": {},
   "outputs": [],
   "source": [
    "#Created two new columns \"Year\" and \"Month\" \n",
    "df['Year'] = df['Period'].str[:4]\n",
    "df['Month'] = df['Period'].str[-2:]\n",
    "#Converting every object taht I will use to numeric value \n",
    "df['Year'] = pd.to_numeric(df['Year'])\n",
    "df['Month'] = pd.to_numeric(df['Month'])\n",
    "df['Gross production'] = df['Gross production'].astype(int)\n",
    "df['Wind energy|Total'] = df['Wind energy|Total'].astype(int)\n",
    "df['Biomass'] = df['Biomass'].astype(int)\n",
    "df['Wind energy on land'] = df['Wind energy on land'].astype(int)\n",
    "df['Wind energy at sea'] = df['Wind energy at sea'].astype(int)\n",
    "df['Solar power'] = df['Solar power'].astype(int)"
   ]
  },
  {
   "cell_type": "code",
   "execution_count": 27,
   "metadata": {},
   "outputs": [
    {
     "data": {
      "text/html": [
       "<div>\n",
       "<style scoped>\n",
       "    .dataframe tbody tr th:only-of-type {\n",
       "        vertical-align: middle;\n",
       "    }\n",
       "\n",
       "    .dataframe tbody tr th {\n",
       "        vertical-align: top;\n",
       "    }\n",
       "\n",
       "    .dataframe thead th {\n",
       "        text-align: right;\n",
       "    }\n",
       "</style>\n",
       "<table border=\"1\" class=\"dataframe\">\n",
       "  <thead>\n",
       "    <tr style=\"text-align: right;\">\n",
       "      <th></th>\n",
       "      <th>Period</th>\n",
       "      <th>Gross production</th>\n",
       "      <th>Own consumption for electricity production</th>\n",
       "      <th>Net production | Total</th>\n",
       "      <th>Nuclear energy</th>\n",
       "      <th>Fuels</th>\n",
       "      <th>Coal</th>\n",
       "      <th>Oil products</th>\n",
       "      <th>Natural gas</th>\n",
       "      <th>Biomass</th>\n",
       "      <th>Other Fuels Not Renewable</th>\n",
       "      <th>Hydropower</th>\n",
       "      <th>Wind energy|Total</th>\n",
       "      <th>Wind energy on land</th>\n",
       "      <th>Wind energy at sea</th>\n",
       "      <th>Solar power</th>\n",
       "      <th>Other sources</th>\n",
       "      <th>Year</th>\n",
       "      <th>Month</th>\n",
       "    </tr>\n",
       "  </thead>\n",
       "  <tbody>\n",
       "    <tr>\n",
       "      <th>0</th>\n",
       "      <td>1929JJ00</td>\n",
       "      <td>0</td>\n",
       "      <td>0.0</td>\n",
       "      <td>0.0</td>\n",
       "      <td>0.0</td>\n",
       "      <td>0.0</td>\n",
       "      <td>0.0</td>\n",
       "      <td>0.0</td>\n",
       "      <td>0.0</td>\n",
       "      <td>0</td>\n",
       "      <td>0.0</td>\n",
       "      <td>0.0</td>\n",
       "      <td>0</td>\n",
       "      <td>0</td>\n",
       "      <td>0</td>\n",
       "      <td>0</td>\n",
       "      <td>0.0</td>\n",
       "      <td>1929</td>\n",
       "      <td>0</td>\n",
       "    </tr>\n",
       "    <tr>\n",
       "      <th>1</th>\n",
       "      <td>1930JJ00</td>\n",
       "      <td>0</td>\n",
       "      <td>0.0</td>\n",
       "      <td>0.0</td>\n",
       "      <td>0.0</td>\n",
       "      <td>0.0</td>\n",
       "      <td>0.0</td>\n",
       "      <td>0.0</td>\n",
       "      <td>0.0</td>\n",
       "      <td>0</td>\n",
       "      <td>0.0</td>\n",
       "      <td>0.0</td>\n",
       "      <td>0</td>\n",
       "      <td>0</td>\n",
       "      <td>0</td>\n",
       "      <td>0</td>\n",
       "      <td>0.0</td>\n",
       "      <td>1930</td>\n",
       "      <td>0</td>\n",
       "    </tr>\n",
       "    <tr>\n",
       "      <th>2</th>\n",
       "      <td>1931JJ00</td>\n",
       "      <td>0</td>\n",
       "      <td>0.0</td>\n",
       "      <td>0.0</td>\n",
       "      <td>0.0</td>\n",
       "      <td>0.0</td>\n",
       "      <td>0.0</td>\n",
       "      <td>0.0</td>\n",
       "      <td>0.0</td>\n",
       "      <td>0</td>\n",
       "      <td>0.0</td>\n",
       "      <td>0.0</td>\n",
       "      <td>0</td>\n",
       "      <td>0</td>\n",
       "      <td>0</td>\n",
       "      <td>0</td>\n",
       "      <td>0.0</td>\n",
       "      <td>1931</td>\n",
       "      <td>0</td>\n",
       "    </tr>\n",
       "    <tr>\n",
       "      <th>3</th>\n",
       "      <td>1932JJ00</td>\n",
       "      <td>0</td>\n",
       "      <td>0.0</td>\n",
       "      <td>0.0</td>\n",
       "      <td>0.0</td>\n",
       "      <td>0.0</td>\n",
       "      <td>0.0</td>\n",
       "      <td>0.0</td>\n",
       "      <td>0.0</td>\n",
       "      <td>0</td>\n",
       "      <td>0.0</td>\n",
       "      <td>0.0</td>\n",
       "      <td>0</td>\n",
       "      <td>0</td>\n",
       "      <td>0</td>\n",
       "      <td>0</td>\n",
       "      <td>0.0</td>\n",
       "      <td>1932</td>\n",
       "      <td>0</td>\n",
       "    </tr>\n",
       "    <tr>\n",
       "      <th>4</th>\n",
       "      <td>1933JJ00</td>\n",
       "      <td>0</td>\n",
       "      <td>0.0</td>\n",
       "      <td>0.0</td>\n",
       "      <td>0.0</td>\n",
       "      <td>0.0</td>\n",
       "      <td>0.0</td>\n",
       "      <td>0.0</td>\n",
       "      <td>0.0</td>\n",
       "      <td>0</td>\n",
       "      <td>0.0</td>\n",
       "      <td>0.0</td>\n",
       "      <td>0</td>\n",
       "      <td>0</td>\n",
       "      <td>0</td>\n",
       "      <td>0</td>\n",
       "      <td>0.0</td>\n",
       "      <td>1933</td>\n",
       "      <td>0</td>\n",
       "    </tr>\n",
       "    <tr>\n",
       "      <th>...</th>\n",
       "      <td>...</td>\n",
       "      <td>...</td>\n",
       "      <td>...</td>\n",
       "      <td>...</td>\n",
       "      <td>...</td>\n",
       "      <td>...</td>\n",
       "      <td>...</td>\n",
       "      <td>...</td>\n",
       "      <td>...</td>\n",
       "      <td>...</td>\n",
       "      <td>...</td>\n",
       "      <td>...</td>\n",
       "      <td>...</td>\n",
       "      <td>...</td>\n",
       "      <td>...</td>\n",
       "      <td>...</td>\n",
       "      <td>...</td>\n",
       "      <td>...</td>\n",
       "      <td>...</td>\n",
       "    </tr>\n",
       "    <tr>\n",
       "      <th>628</th>\n",
       "      <td>2020MM10</td>\n",
       "      <td>10499</td>\n",
       "      <td>300.0</td>\n",
       "      <td>10199.0</td>\n",
       "      <td>354.0</td>\n",
       "      <td>7507.0</td>\n",
       "      <td>1097.0</td>\n",
       "      <td>107.0</td>\n",
       "      <td>5435.0</td>\n",
       "      <td>727</td>\n",
       "      <td>141.0</td>\n",
       "      <td>3.0</td>\n",
       "      <td>1946</td>\n",
       "      <td>1026</td>\n",
       "      <td>920</td>\n",
       "      <td>339</td>\n",
       "      <td>50.0</td>\n",
       "      <td>2020</td>\n",
       "      <td>10</td>\n",
       "    </tr>\n",
       "    <tr>\n",
       "      <th>629</th>\n",
       "      <td>2020MM11</td>\n",
       "      <td>10427</td>\n",
       "      <td>301.0</td>\n",
       "      <td>10126.0</td>\n",
       "      <td>301.0</td>\n",
       "      <td>7908.0</td>\n",
       "      <td>1073.0</td>\n",
       "      <td>86.0</td>\n",
       "      <td>5873.0</td>\n",
       "      <td>745</td>\n",
       "      <td>131.0</td>\n",
       "      <td>3.0</td>\n",
       "      <td>1630</td>\n",
       "      <td>892</td>\n",
       "      <td>739</td>\n",
       "      <td>234</td>\n",
       "      <td>49.0</td>\n",
       "      <td>2020</td>\n",
       "      <td>11</td>\n",
       "    </tr>\n",
       "    <tr>\n",
       "      <th>630</th>\n",
       "      <td>2020MM12</td>\n",
       "      <td>10849</td>\n",
       "      <td>318.0</td>\n",
       "      <td>10531.0</td>\n",
       "      <td>357.0</td>\n",
       "      <td>8202.0</td>\n",
       "      <td>1075.0</td>\n",
       "      <td>80.0</td>\n",
       "      <td>6092.0</td>\n",
       "      <td>812</td>\n",
       "      <td>142.0</td>\n",
       "      <td>7.0</td>\n",
       "      <td>1789</td>\n",
       "      <td>918</td>\n",
       "      <td>870</td>\n",
       "      <td>126</td>\n",
       "      <td>50.0</td>\n",
       "      <td>2020</td>\n",
       "      <td>12</td>\n",
       "    </tr>\n",
       "    <tr>\n",
       "      <th>631</th>\n",
       "      <td>2020JJ00</td>\n",
       "      <td>122377</td>\n",
       "      <td>3457.0</td>\n",
       "      <td>118920.0</td>\n",
       "      <td>3865.0</td>\n",
       "      <td>91178.0</td>\n",
       "      <td>9597.0</td>\n",
       "      <td>1295.0</td>\n",
       "      <td>70848.0</td>\n",
       "      <td>7785</td>\n",
       "      <td>1653.0</td>\n",
       "      <td>46.0</td>\n",
       "      <td>15268</td>\n",
       "      <td>9785</td>\n",
       "      <td>5484</td>\n",
       "      <td>8056</td>\n",
       "      <td>507.0</td>\n",
       "      <td>2020</td>\n",
       "      <td>0</td>\n",
       "    </tr>\n",
       "    <tr>\n",
       "      <th>632</th>\n",
       "      <td>2021MM01</td>\n",
       "      <td>11521</td>\n",
       "      <td>336.0</td>\n",
       "      <td>11185.0</td>\n",
       "      <td>358.0</td>\n",
       "      <td>8791.0</td>\n",
       "      <td>1589.0</td>\n",
       "      <td>84.0</td>\n",
       "      <td>6070.0</td>\n",
       "      <td>912</td>\n",
       "      <td>137.0</td>\n",
       "      <td>7.0</td>\n",
       "      <td>1795</td>\n",
       "      <td>926</td>\n",
       "      <td>868</td>\n",
       "      <td>188</td>\n",
       "      <td>42.0</td>\n",
       "      <td>2021</td>\n",
       "      <td>1</td>\n",
       "    </tr>\n",
       "  </tbody>\n",
       "</table>\n",
       "<p>633 rows × 19 columns</p>\n",
       "</div>"
      ],
      "text/plain": [
       "       Period  Gross production  Own consumption for electricity production  \\\n",
       "0    1929JJ00                 0                                         0.0   \n",
       "1    1930JJ00                 0                                         0.0   \n",
       "2    1931JJ00                 0                                         0.0   \n",
       "3    1932JJ00                 0                                         0.0   \n",
       "4    1933JJ00                 0                                         0.0   \n",
       "..        ...               ...                                         ...   \n",
       "628  2020MM10             10499                                       300.0   \n",
       "629  2020MM11             10427                                       301.0   \n",
       "630  2020MM12             10849                                       318.0   \n",
       "631  2020JJ00            122377                                      3457.0   \n",
       "632  2021MM01             11521                                       336.0   \n",
       "\n",
       "     Net production | Total  Nuclear energy    Fuels    Coal  Oil products  \\\n",
       "0                       0.0             0.0      0.0     0.0           0.0   \n",
       "1                       0.0             0.0      0.0     0.0           0.0   \n",
       "2                       0.0             0.0      0.0     0.0           0.0   \n",
       "3                       0.0             0.0      0.0     0.0           0.0   \n",
       "4                       0.0             0.0      0.0     0.0           0.0   \n",
       "..                      ...             ...      ...     ...           ...   \n",
       "628                 10199.0           354.0   7507.0  1097.0         107.0   \n",
       "629                 10126.0           301.0   7908.0  1073.0          86.0   \n",
       "630                 10531.0           357.0   8202.0  1075.0          80.0   \n",
       "631                118920.0          3865.0  91178.0  9597.0        1295.0   \n",
       "632                 11185.0           358.0   8791.0  1589.0          84.0   \n",
       "\n",
       "     Natural gas  Biomass  Other Fuels Not Renewable  Hydropower  \\\n",
       "0            0.0        0                        0.0         0.0   \n",
       "1            0.0        0                        0.0         0.0   \n",
       "2            0.0        0                        0.0         0.0   \n",
       "3            0.0        0                        0.0         0.0   \n",
       "4            0.0        0                        0.0         0.0   \n",
       "..           ...      ...                        ...         ...   \n",
       "628       5435.0      727                      141.0         3.0   \n",
       "629       5873.0      745                      131.0         3.0   \n",
       "630       6092.0      812                      142.0         7.0   \n",
       "631      70848.0     7785                     1653.0        46.0   \n",
       "632       6070.0      912                      137.0         7.0   \n",
       "\n",
       "     Wind energy|Total  Wind energy on land  Wind energy at sea  Solar power  \\\n",
       "0                    0                    0                   0            0   \n",
       "1                    0                    0                   0            0   \n",
       "2                    0                    0                   0            0   \n",
       "3                    0                    0                   0            0   \n",
       "4                    0                    0                   0            0   \n",
       "..                 ...                  ...                 ...          ...   \n",
       "628               1946                 1026                 920          339   \n",
       "629               1630                  892                 739          234   \n",
       "630               1789                  918                 870          126   \n",
       "631              15268                 9785                5484         8056   \n",
       "632               1795                  926                 868          188   \n",
       "\n",
       "     Other sources  Year  Month  \n",
       "0              0.0  1929      0  \n",
       "1              0.0  1930      0  \n",
       "2              0.0  1931      0  \n",
       "3              0.0  1932      0  \n",
       "4              0.0  1933      0  \n",
       "..             ...   ...    ...  \n",
       "628           50.0  2020     10  \n",
       "629           49.0  2020     11  \n",
       "630           50.0  2020     12  \n",
       "631          507.0  2020      0  \n",
       "632           42.0  2021      1  \n",
       "\n",
       "[633 rows x 19 columns]"
      ]
     },
     "execution_count": 27,
     "metadata": {},
     "output_type": "execute_result"
    }
   ],
   "source": [
    "df"
   ]
  },
  {
   "cell_type": "code",
   "execution_count": 28,
   "metadata": {},
   "outputs": [],
   "source": [
    "Years = df[df.Month == 0]\n",
    "Range = ( Years['Year'] >= 2000) & (df['Year'] <= 2020)"
   ]
  },
  {
   "cell_type": "code",
   "execution_count": 29,
   "metadata": {},
   "outputs": [],
   "source": [
    "dfs = {'Year':df[Range]['Year'],\n",
    "       'Wind energy on land':df[Range][ 'Wind energy on land'],\n",
    "       'Wind energy at sea':df[Range]['Wind energy at sea'], \n",
    "       'Solar power' : df[Range]['Solar power'],\n",
    "      'Gross production':df[Range]['Gross production'],\n",
    "       'Wind energy|Total':df[Range]['Wind energy|Total']\n",
    "      }"
   ]
  },
  {
   "cell_type": "code",
   "execution_count": 30,
   "metadata": {},
   "outputs": [
    {
     "data": {
      "text/plain": [
       "{'Year': 371    2000\n",
       " 384    2001\n",
       " 397    2002\n",
       " 410    2003\n",
       " 423    2004\n",
       " 436    2005\n",
       " 449    2006\n",
       " 462    2007\n",
       " 475    2008\n",
       " 488    2009\n",
       " 501    2010\n",
       " 514    2011\n",
       " 527    2012\n",
       " 540    2013\n",
       " 553    2014\n",
       " 566    2015\n",
       " 579    2016\n",
       " 592    2017\n",
       " 605    2018\n",
       " 618    2019\n",
       " 631    2020\n",
       " Name: Year, dtype: int64,\n",
       " 'Wind energy on land': 371     829\n",
       " 384     825\n",
       " 397     947\n",
       " 410    1320\n",
       " 423    1871\n",
       " 436    2067\n",
       " 449    2666\n",
       " 462    3108\n",
       " 475    3664\n",
       " 488    3846\n",
       " 501    3315\n",
       " 514    4298\n",
       " 527    4193\n",
       " 540    4856\n",
       " 553    5049\n",
       " 566    6420\n",
       " 579    5901\n",
       " 592    6869\n",
       " 605    6918\n",
       " 618    7935\n",
       " 631    9785\n",
       " Name: Wind energy on land, dtype: int64,\n",
       " 'Wind energy at sea': 371       0\n",
       " 384       0\n",
       " 397       0\n",
       " 410       0\n",
       " 423       0\n",
       " 436       0\n",
       " 449      68\n",
       " 462     330\n",
       " 475     596\n",
       " 488     735\n",
       " 501     679\n",
       " 514     802\n",
       " 527     789\n",
       " 540     771\n",
       " 553     748\n",
       " 566    1130\n",
       " 579    2269\n",
       " 592    3700\n",
       " 605    3630\n",
       " 618    3573\n",
       " 631    5484\n",
       " Name: Wind energy at sea, dtype: int64,\n",
       " 'Solar power': 371       8\n",
       " 384      12\n",
       " 397      16\n",
       " 410      25\n",
       " 423      34\n",
       " 436      35\n",
       " 449      37\n",
       " 462      38\n",
       " 475      40\n",
       " 488      45\n",
       " 501      56\n",
       " 514     104\n",
       " 527     191\n",
       " 540     410\n",
       " 553     725\n",
       " 566    1109\n",
       " 579    1602\n",
       " 592    2204\n",
       " 605    3709\n",
       " 618    5336\n",
       " 631    8056\n",
       " Name: Solar power, dtype: int64,\n",
       " 'Gross production': 371     89426\n",
       " 384     94240\n",
       " 397     95914\n",
       " 410     96695\n",
       " 423    100725\n",
       " 436    100424\n",
       " 449     98835\n",
       " 462    105164\n",
       " 475    108201\n",
       " 488    113503\n",
       " 501    118150\n",
       " 514    112966\n",
       " 527    102505\n",
       " 540    100875\n",
       " 553    103365\n",
       " 566    110388\n",
       " 579    115213\n",
       " 592    117260\n",
       " 605    114103\n",
       " 618    121062\n",
       " 631    122377\n",
       " Name: Gross production, dtype: int64,\n",
       " 'Wind energy|Total': 371      829\n",
       " 384      825\n",
       " 397      947\n",
       " 410     1320\n",
       " 423     1871\n",
       " 436     2067\n",
       " 449     2734\n",
       " 462     3438\n",
       " 475     4260\n",
       " 488     4581\n",
       " 501     3993\n",
       " 514     5100\n",
       " 527     4982\n",
       " 540     5627\n",
       " 553     5797\n",
       " 566     7550\n",
       " 579     8170\n",
       " 592    10569\n",
       " 605    10549\n",
       " 618    11508\n",
       " 631    15268\n",
       " Name: Wind energy|Total, dtype: int64}"
      ]
     },
     "execution_count": 30,
     "metadata": {},
     "output_type": "execute_result"
    }
   ],
   "source": [
    "dfs"
   ]
  },
  {
   "cell_type": "code",
   "execution_count": 31,
   "metadata": {},
   "outputs": [],
   "source": [
    "dfs = pd.DataFrame(dfs)"
   ]
  },
  {
   "cell_type": "code",
   "execution_count": 32,
   "metadata": {},
   "outputs": [
    {
     "data": {
      "text/html": [
       "<div>\n",
       "<style scoped>\n",
       "    .dataframe tbody tr th:only-of-type {\n",
       "        vertical-align: middle;\n",
       "    }\n",
       "\n",
       "    .dataframe tbody tr th {\n",
       "        vertical-align: top;\n",
       "    }\n",
       "\n",
       "    .dataframe thead th {\n",
       "        text-align: right;\n",
       "    }\n",
       "</style>\n",
       "<table border=\"1\" class=\"dataframe\">\n",
       "  <thead>\n",
       "    <tr style=\"text-align: right;\">\n",
       "      <th></th>\n",
       "      <th>Year</th>\n",
       "      <th>Wind energy on land</th>\n",
       "      <th>Wind energy at sea</th>\n",
       "      <th>Solar power</th>\n",
       "      <th>Gross production</th>\n",
       "      <th>Wind energy|Total</th>\n",
       "    </tr>\n",
       "  </thead>\n",
       "  <tbody>\n",
       "    <tr>\n",
       "      <th>371</th>\n",
       "      <td>2000</td>\n",
       "      <td>829</td>\n",
       "      <td>0</td>\n",
       "      <td>8</td>\n",
       "      <td>89426</td>\n",
       "      <td>829</td>\n",
       "    </tr>\n",
       "    <tr>\n",
       "      <th>384</th>\n",
       "      <td>2001</td>\n",
       "      <td>825</td>\n",
       "      <td>0</td>\n",
       "      <td>12</td>\n",
       "      <td>94240</td>\n",
       "      <td>825</td>\n",
       "    </tr>\n",
       "    <tr>\n",
       "      <th>397</th>\n",
       "      <td>2002</td>\n",
       "      <td>947</td>\n",
       "      <td>0</td>\n",
       "      <td>16</td>\n",
       "      <td>95914</td>\n",
       "      <td>947</td>\n",
       "    </tr>\n",
       "    <tr>\n",
       "      <th>410</th>\n",
       "      <td>2003</td>\n",
       "      <td>1320</td>\n",
       "      <td>0</td>\n",
       "      <td>25</td>\n",
       "      <td>96695</td>\n",
       "      <td>1320</td>\n",
       "    </tr>\n",
       "    <tr>\n",
       "      <th>423</th>\n",
       "      <td>2004</td>\n",
       "      <td>1871</td>\n",
       "      <td>0</td>\n",
       "      <td>34</td>\n",
       "      <td>100725</td>\n",
       "      <td>1871</td>\n",
       "    </tr>\n",
       "    <tr>\n",
       "      <th>436</th>\n",
       "      <td>2005</td>\n",
       "      <td>2067</td>\n",
       "      <td>0</td>\n",
       "      <td>35</td>\n",
       "      <td>100424</td>\n",
       "      <td>2067</td>\n",
       "    </tr>\n",
       "    <tr>\n",
       "      <th>449</th>\n",
       "      <td>2006</td>\n",
       "      <td>2666</td>\n",
       "      <td>68</td>\n",
       "      <td>37</td>\n",
       "      <td>98835</td>\n",
       "      <td>2734</td>\n",
       "    </tr>\n",
       "    <tr>\n",
       "      <th>462</th>\n",
       "      <td>2007</td>\n",
       "      <td>3108</td>\n",
       "      <td>330</td>\n",
       "      <td>38</td>\n",
       "      <td>105164</td>\n",
       "      <td>3438</td>\n",
       "    </tr>\n",
       "    <tr>\n",
       "      <th>475</th>\n",
       "      <td>2008</td>\n",
       "      <td>3664</td>\n",
       "      <td>596</td>\n",
       "      <td>40</td>\n",
       "      <td>108201</td>\n",
       "      <td>4260</td>\n",
       "    </tr>\n",
       "    <tr>\n",
       "      <th>488</th>\n",
       "      <td>2009</td>\n",
       "      <td>3846</td>\n",
       "      <td>735</td>\n",
       "      <td>45</td>\n",
       "      <td>113503</td>\n",
       "      <td>4581</td>\n",
       "    </tr>\n",
       "    <tr>\n",
       "      <th>501</th>\n",
       "      <td>2010</td>\n",
       "      <td>3315</td>\n",
       "      <td>679</td>\n",
       "      <td>56</td>\n",
       "      <td>118150</td>\n",
       "      <td>3993</td>\n",
       "    </tr>\n",
       "    <tr>\n",
       "      <th>514</th>\n",
       "      <td>2011</td>\n",
       "      <td>4298</td>\n",
       "      <td>802</td>\n",
       "      <td>104</td>\n",
       "      <td>112966</td>\n",
       "      <td>5100</td>\n",
       "    </tr>\n",
       "    <tr>\n",
       "      <th>527</th>\n",
       "      <td>2012</td>\n",
       "      <td>4193</td>\n",
       "      <td>789</td>\n",
       "      <td>191</td>\n",
       "      <td>102505</td>\n",
       "      <td>4982</td>\n",
       "    </tr>\n",
       "    <tr>\n",
       "      <th>540</th>\n",
       "      <td>2013</td>\n",
       "      <td>4856</td>\n",
       "      <td>771</td>\n",
       "      <td>410</td>\n",
       "      <td>100875</td>\n",
       "      <td>5627</td>\n",
       "    </tr>\n",
       "    <tr>\n",
       "      <th>553</th>\n",
       "      <td>2014</td>\n",
       "      <td>5049</td>\n",
       "      <td>748</td>\n",
       "      <td>725</td>\n",
       "      <td>103365</td>\n",
       "      <td>5797</td>\n",
       "    </tr>\n",
       "    <tr>\n",
       "      <th>566</th>\n",
       "      <td>2015</td>\n",
       "      <td>6420</td>\n",
       "      <td>1130</td>\n",
       "      <td>1109</td>\n",
       "      <td>110388</td>\n",
       "      <td>7550</td>\n",
       "    </tr>\n",
       "    <tr>\n",
       "      <th>579</th>\n",
       "      <td>2016</td>\n",
       "      <td>5901</td>\n",
       "      <td>2269</td>\n",
       "      <td>1602</td>\n",
       "      <td>115213</td>\n",
       "      <td>8170</td>\n",
       "    </tr>\n",
       "    <tr>\n",
       "      <th>592</th>\n",
       "      <td>2017</td>\n",
       "      <td>6869</td>\n",
       "      <td>3700</td>\n",
       "      <td>2204</td>\n",
       "      <td>117260</td>\n",
       "      <td>10569</td>\n",
       "    </tr>\n",
       "    <tr>\n",
       "      <th>605</th>\n",
       "      <td>2018</td>\n",
       "      <td>6918</td>\n",
       "      <td>3630</td>\n",
       "      <td>3709</td>\n",
       "      <td>114103</td>\n",
       "      <td>10549</td>\n",
       "    </tr>\n",
       "    <tr>\n",
       "      <th>618</th>\n",
       "      <td>2019</td>\n",
       "      <td>7935</td>\n",
       "      <td>3573</td>\n",
       "      <td>5336</td>\n",
       "      <td>121062</td>\n",
       "      <td>11508</td>\n",
       "    </tr>\n",
       "    <tr>\n",
       "      <th>631</th>\n",
       "      <td>2020</td>\n",
       "      <td>9785</td>\n",
       "      <td>5484</td>\n",
       "      <td>8056</td>\n",
       "      <td>122377</td>\n",
       "      <td>15268</td>\n",
       "    </tr>\n",
       "  </tbody>\n",
       "</table>\n",
       "</div>"
      ],
      "text/plain": [
       "     Year  Wind energy on land  Wind energy at sea  Solar power  \\\n",
       "371  2000                  829                   0            8   \n",
       "384  2001                  825                   0           12   \n",
       "397  2002                  947                   0           16   \n",
       "410  2003                 1320                   0           25   \n",
       "423  2004                 1871                   0           34   \n",
       "436  2005                 2067                   0           35   \n",
       "449  2006                 2666                  68           37   \n",
       "462  2007                 3108                 330           38   \n",
       "475  2008                 3664                 596           40   \n",
       "488  2009                 3846                 735           45   \n",
       "501  2010                 3315                 679           56   \n",
       "514  2011                 4298                 802          104   \n",
       "527  2012                 4193                 789          191   \n",
       "540  2013                 4856                 771          410   \n",
       "553  2014                 5049                 748          725   \n",
       "566  2015                 6420                1130         1109   \n",
       "579  2016                 5901                2269         1602   \n",
       "592  2017                 6869                3700         2204   \n",
       "605  2018                 6918                3630         3709   \n",
       "618  2019                 7935                3573         5336   \n",
       "631  2020                 9785                5484         8056   \n",
       "\n",
       "     Gross production  Wind energy|Total  \n",
       "371             89426                829  \n",
       "384             94240                825  \n",
       "397             95914                947  \n",
       "410             96695               1320  \n",
       "423            100725               1871  \n",
       "436            100424               2067  \n",
       "449             98835               2734  \n",
       "462            105164               3438  \n",
       "475            108201               4260  \n",
       "488            113503               4581  \n",
       "501            118150               3993  \n",
       "514            112966               5100  \n",
       "527            102505               4982  \n",
       "540            100875               5627  \n",
       "553            103365               5797  \n",
       "566            110388               7550  \n",
       "579            115213               8170  \n",
       "592            117260              10569  \n",
       "605            114103              10549  \n",
       "618            121062              11508  \n",
       "631            122377              15268  "
      ]
     },
     "execution_count": 32,
     "metadata": {},
     "output_type": "execute_result"
    }
   ],
   "source": [
    "dfs"
   ]
  },
  {
   "cell_type": "code",
   "execution_count": 33,
   "metadata": {},
   "outputs": [],
   "source": [
    "w_e= (dfs['Wind energy at sea'], dfs['Wind energy on land'])"
   ]
  },
  {
   "cell_type": "code",
   "execution_count": 34,
   "metadata": {},
   "outputs": [
    {
     "data": {
      "application/vnd.plotly.v1+json": {
       "config": {
        "plotlyServerURL": "https://plot.ly"
       },
       "data": [
        {
         "hovertemplate": "Year=%{x}<br>Wind energy|Total=%{y}<extra></extra>",
         "legendgroup": "",
         "line": {
          "color": "#636efa",
          "dash": "solid"
         },
         "mode": "lines",
         "name": "",
         "orientation": "v",
         "showlegend": false,
         "type": "scatter",
         "x": [
          2000,
          2001,
          2002,
          2003,
          2004,
          2005,
          2006,
          2007,
          2008,
          2009,
          2010,
          2011,
          2012,
          2013,
          2014,
          2015,
          2016,
          2017,
          2018,
          2019,
          2020
         ],
         "xaxis": "x",
         "y": [
          829,
          825,
          947,
          1320,
          1871,
          2067,
          2734,
          3438,
          4260,
          4581,
          3993,
          5100,
          4982,
          5627,
          5797,
          7550,
          8170,
          10569,
          10549,
          11508,
          15268
         ],
         "yaxis": "y"
        }
       ],
       "layout": {
        "legend": {
         "tracegroupgap": 0
        },
        "margin": {
         "t": 60
        },
        "template": {
         "data": {
          "bar": [
           {
            "error_x": {
             "color": "#2a3f5f"
            },
            "error_y": {
             "color": "#2a3f5f"
            },
            "marker": {
             "line": {
              "color": "#E5ECF6",
              "width": 0.5
             }
            },
            "type": "bar"
           }
          ],
          "barpolar": [
           {
            "marker": {
             "line": {
              "color": "#E5ECF6",
              "width": 0.5
             }
            },
            "type": "barpolar"
           }
          ],
          "carpet": [
           {
            "aaxis": {
             "endlinecolor": "#2a3f5f",
             "gridcolor": "white",
             "linecolor": "white",
             "minorgridcolor": "white",
             "startlinecolor": "#2a3f5f"
            },
            "baxis": {
             "endlinecolor": "#2a3f5f",
             "gridcolor": "white",
             "linecolor": "white",
             "minorgridcolor": "white",
             "startlinecolor": "#2a3f5f"
            },
            "type": "carpet"
           }
          ],
          "choropleth": [
           {
            "colorbar": {
             "outlinewidth": 0,
             "ticks": ""
            },
            "type": "choropleth"
           }
          ],
          "contour": [
           {
            "colorbar": {
             "outlinewidth": 0,
             "ticks": ""
            },
            "colorscale": [
             [
              0,
              "#0d0887"
             ],
             [
              0.1111111111111111,
              "#46039f"
             ],
             [
              0.2222222222222222,
              "#7201a8"
             ],
             [
              0.3333333333333333,
              "#9c179e"
             ],
             [
              0.4444444444444444,
              "#bd3786"
             ],
             [
              0.5555555555555556,
              "#d8576b"
             ],
             [
              0.6666666666666666,
              "#ed7953"
             ],
             [
              0.7777777777777778,
              "#fb9f3a"
             ],
             [
              0.8888888888888888,
              "#fdca26"
             ],
             [
              1,
              "#f0f921"
             ]
            ],
            "type": "contour"
           }
          ],
          "contourcarpet": [
           {
            "colorbar": {
             "outlinewidth": 0,
             "ticks": ""
            },
            "type": "contourcarpet"
           }
          ],
          "heatmap": [
           {
            "colorbar": {
             "outlinewidth": 0,
             "ticks": ""
            },
            "colorscale": [
             [
              0,
              "#0d0887"
             ],
             [
              0.1111111111111111,
              "#46039f"
             ],
             [
              0.2222222222222222,
              "#7201a8"
             ],
             [
              0.3333333333333333,
              "#9c179e"
             ],
             [
              0.4444444444444444,
              "#bd3786"
             ],
             [
              0.5555555555555556,
              "#d8576b"
             ],
             [
              0.6666666666666666,
              "#ed7953"
             ],
             [
              0.7777777777777778,
              "#fb9f3a"
             ],
             [
              0.8888888888888888,
              "#fdca26"
             ],
             [
              1,
              "#f0f921"
             ]
            ],
            "type": "heatmap"
           }
          ],
          "heatmapgl": [
           {
            "colorbar": {
             "outlinewidth": 0,
             "ticks": ""
            },
            "colorscale": [
             [
              0,
              "#0d0887"
             ],
             [
              0.1111111111111111,
              "#46039f"
             ],
             [
              0.2222222222222222,
              "#7201a8"
             ],
             [
              0.3333333333333333,
              "#9c179e"
             ],
             [
              0.4444444444444444,
              "#bd3786"
             ],
             [
              0.5555555555555556,
              "#d8576b"
             ],
             [
              0.6666666666666666,
              "#ed7953"
             ],
             [
              0.7777777777777778,
              "#fb9f3a"
             ],
             [
              0.8888888888888888,
              "#fdca26"
             ],
             [
              1,
              "#f0f921"
             ]
            ],
            "type": "heatmapgl"
           }
          ],
          "histogram": [
           {
            "marker": {
             "colorbar": {
              "outlinewidth": 0,
              "ticks": ""
             }
            },
            "type": "histogram"
           }
          ],
          "histogram2d": [
           {
            "colorbar": {
             "outlinewidth": 0,
             "ticks": ""
            },
            "colorscale": [
             [
              0,
              "#0d0887"
             ],
             [
              0.1111111111111111,
              "#46039f"
             ],
             [
              0.2222222222222222,
              "#7201a8"
             ],
             [
              0.3333333333333333,
              "#9c179e"
             ],
             [
              0.4444444444444444,
              "#bd3786"
             ],
             [
              0.5555555555555556,
              "#d8576b"
             ],
             [
              0.6666666666666666,
              "#ed7953"
             ],
             [
              0.7777777777777778,
              "#fb9f3a"
             ],
             [
              0.8888888888888888,
              "#fdca26"
             ],
             [
              1,
              "#f0f921"
             ]
            ],
            "type": "histogram2d"
           }
          ],
          "histogram2dcontour": [
           {
            "colorbar": {
             "outlinewidth": 0,
             "ticks": ""
            },
            "colorscale": [
             [
              0,
              "#0d0887"
             ],
             [
              0.1111111111111111,
              "#46039f"
             ],
             [
              0.2222222222222222,
              "#7201a8"
             ],
             [
              0.3333333333333333,
              "#9c179e"
             ],
             [
              0.4444444444444444,
              "#bd3786"
             ],
             [
              0.5555555555555556,
              "#d8576b"
             ],
             [
              0.6666666666666666,
              "#ed7953"
             ],
             [
              0.7777777777777778,
              "#fb9f3a"
             ],
             [
              0.8888888888888888,
              "#fdca26"
             ],
             [
              1,
              "#f0f921"
             ]
            ],
            "type": "histogram2dcontour"
           }
          ],
          "mesh3d": [
           {
            "colorbar": {
             "outlinewidth": 0,
             "ticks": ""
            },
            "type": "mesh3d"
           }
          ],
          "parcoords": [
           {
            "line": {
             "colorbar": {
              "outlinewidth": 0,
              "ticks": ""
             }
            },
            "type": "parcoords"
           }
          ],
          "pie": [
           {
            "automargin": true,
            "type": "pie"
           }
          ],
          "scatter": [
           {
            "marker": {
             "colorbar": {
              "outlinewidth": 0,
              "ticks": ""
             }
            },
            "type": "scatter"
           }
          ],
          "scatter3d": [
           {
            "line": {
             "colorbar": {
              "outlinewidth": 0,
              "ticks": ""
             }
            },
            "marker": {
             "colorbar": {
              "outlinewidth": 0,
              "ticks": ""
             }
            },
            "type": "scatter3d"
           }
          ],
          "scattercarpet": [
           {
            "marker": {
             "colorbar": {
              "outlinewidth": 0,
              "ticks": ""
             }
            },
            "type": "scattercarpet"
           }
          ],
          "scattergeo": [
           {
            "marker": {
             "colorbar": {
              "outlinewidth": 0,
              "ticks": ""
             }
            },
            "type": "scattergeo"
           }
          ],
          "scattergl": [
           {
            "marker": {
             "colorbar": {
              "outlinewidth": 0,
              "ticks": ""
             }
            },
            "type": "scattergl"
           }
          ],
          "scattermapbox": [
           {
            "marker": {
             "colorbar": {
              "outlinewidth": 0,
              "ticks": ""
             }
            },
            "type": "scattermapbox"
           }
          ],
          "scatterpolar": [
           {
            "marker": {
             "colorbar": {
              "outlinewidth": 0,
              "ticks": ""
             }
            },
            "type": "scatterpolar"
           }
          ],
          "scatterpolargl": [
           {
            "marker": {
             "colorbar": {
              "outlinewidth": 0,
              "ticks": ""
             }
            },
            "type": "scatterpolargl"
           }
          ],
          "scatterternary": [
           {
            "marker": {
             "colorbar": {
              "outlinewidth": 0,
              "ticks": ""
             }
            },
            "type": "scatterternary"
           }
          ],
          "surface": [
           {
            "colorbar": {
             "outlinewidth": 0,
             "ticks": ""
            },
            "colorscale": [
             [
              0,
              "#0d0887"
             ],
             [
              0.1111111111111111,
              "#46039f"
             ],
             [
              0.2222222222222222,
              "#7201a8"
             ],
             [
              0.3333333333333333,
              "#9c179e"
             ],
             [
              0.4444444444444444,
              "#bd3786"
             ],
             [
              0.5555555555555556,
              "#d8576b"
             ],
             [
              0.6666666666666666,
              "#ed7953"
             ],
             [
              0.7777777777777778,
              "#fb9f3a"
             ],
             [
              0.8888888888888888,
              "#fdca26"
             ],
             [
              1,
              "#f0f921"
             ]
            ],
            "type": "surface"
           }
          ],
          "table": [
           {
            "cells": {
             "fill": {
              "color": "#EBF0F8"
             },
             "line": {
              "color": "white"
             }
            },
            "header": {
             "fill": {
              "color": "#C8D4E3"
             },
             "line": {
              "color": "white"
             }
            },
            "type": "table"
           }
          ]
         },
         "layout": {
          "annotationdefaults": {
           "arrowcolor": "#2a3f5f",
           "arrowhead": 0,
           "arrowwidth": 1
          },
          "autotypenumbers": "strict",
          "coloraxis": {
           "colorbar": {
            "outlinewidth": 0,
            "ticks": ""
           }
          },
          "colorscale": {
           "diverging": [
            [
             0,
             "#8e0152"
            ],
            [
             0.1,
             "#c51b7d"
            ],
            [
             0.2,
             "#de77ae"
            ],
            [
             0.3,
             "#f1b6da"
            ],
            [
             0.4,
             "#fde0ef"
            ],
            [
             0.5,
             "#f7f7f7"
            ],
            [
             0.6,
             "#e6f5d0"
            ],
            [
             0.7,
             "#b8e186"
            ],
            [
             0.8,
             "#7fbc41"
            ],
            [
             0.9,
             "#4d9221"
            ],
            [
             1,
             "#276419"
            ]
           ],
           "sequential": [
            [
             0,
             "#0d0887"
            ],
            [
             0.1111111111111111,
             "#46039f"
            ],
            [
             0.2222222222222222,
             "#7201a8"
            ],
            [
             0.3333333333333333,
             "#9c179e"
            ],
            [
             0.4444444444444444,
             "#bd3786"
            ],
            [
             0.5555555555555556,
             "#d8576b"
            ],
            [
             0.6666666666666666,
             "#ed7953"
            ],
            [
             0.7777777777777778,
             "#fb9f3a"
            ],
            [
             0.8888888888888888,
             "#fdca26"
            ],
            [
             1,
             "#f0f921"
            ]
           ],
           "sequentialminus": [
            [
             0,
             "#0d0887"
            ],
            [
             0.1111111111111111,
             "#46039f"
            ],
            [
             0.2222222222222222,
             "#7201a8"
            ],
            [
             0.3333333333333333,
             "#9c179e"
            ],
            [
             0.4444444444444444,
             "#bd3786"
            ],
            [
             0.5555555555555556,
             "#d8576b"
            ],
            [
             0.6666666666666666,
             "#ed7953"
            ],
            [
             0.7777777777777778,
             "#fb9f3a"
            ],
            [
             0.8888888888888888,
             "#fdca26"
            ],
            [
             1,
             "#f0f921"
            ]
           ]
          },
          "colorway": [
           "#636efa",
           "#EF553B",
           "#00cc96",
           "#ab63fa",
           "#FFA15A",
           "#19d3f3",
           "#FF6692",
           "#B6E880",
           "#FF97FF",
           "#FECB52"
          ],
          "font": {
           "color": "#2a3f5f"
          },
          "geo": {
           "bgcolor": "white",
           "lakecolor": "white",
           "landcolor": "#E5ECF6",
           "showlakes": true,
           "showland": true,
           "subunitcolor": "white"
          },
          "hoverlabel": {
           "align": "left"
          },
          "hovermode": "closest",
          "mapbox": {
           "style": "light"
          },
          "paper_bgcolor": "white",
          "plot_bgcolor": "#E5ECF6",
          "polar": {
           "angularaxis": {
            "gridcolor": "white",
            "linecolor": "white",
            "ticks": ""
           },
           "bgcolor": "#E5ECF6",
           "radialaxis": {
            "gridcolor": "white",
            "linecolor": "white",
            "ticks": ""
           }
          },
          "scene": {
           "xaxis": {
            "backgroundcolor": "#E5ECF6",
            "gridcolor": "white",
            "gridwidth": 2,
            "linecolor": "white",
            "showbackground": true,
            "ticks": "",
            "zerolinecolor": "white"
           },
           "yaxis": {
            "backgroundcolor": "#E5ECF6",
            "gridcolor": "white",
            "gridwidth": 2,
            "linecolor": "white",
            "showbackground": true,
            "ticks": "",
            "zerolinecolor": "white"
           },
           "zaxis": {
            "backgroundcolor": "#E5ECF6",
            "gridcolor": "white",
            "gridwidth": 2,
            "linecolor": "white",
            "showbackground": true,
            "ticks": "",
            "zerolinecolor": "white"
           }
          },
          "shapedefaults": {
           "line": {
            "color": "#2a3f5f"
           }
          },
          "ternary": {
           "aaxis": {
            "gridcolor": "white",
            "linecolor": "white",
            "ticks": ""
           },
           "baxis": {
            "gridcolor": "white",
            "linecolor": "white",
            "ticks": ""
           },
           "bgcolor": "#E5ECF6",
           "caxis": {
            "gridcolor": "white",
            "linecolor": "white",
            "ticks": ""
           }
          },
          "title": {
           "x": 0.05
          },
          "xaxis": {
           "automargin": true,
           "gridcolor": "white",
           "linecolor": "white",
           "ticks": "",
           "title": {
            "standoff": 15
           },
           "zerolinecolor": "white",
           "zerolinewidth": 2
          },
          "yaxis": {
           "automargin": true,
           "gridcolor": "white",
           "linecolor": "white",
           "ticks": "",
           "title": {
            "standoff": 15
           },
           "zerolinecolor": "white",
           "zerolinewidth": 2
          }
         }
        },
        "xaxis": {
         "anchor": "y",
         "domain": [
          0,
          1
         ],
         "title": {
          "text": "Year"
         }
        },
        "yaxis": {
         "anchor": "x",
         "domain": [
          0,
          1
         ],
         "title": {
          "text": "Wind energy|Total"
         }
        }
       }
      },
      "text/html": [
       "<div>                            <div id=\"ce5ba704-7a17-4576-a773-82613cd1a066\" class=\"plotly-graph-div\" style=\"height:525px; width:100%;\"></div>            <script type=\"text/javascript\">                require([\"plotly\"], function(Plotly) {                    window.PLOTLYENV=window.PLOTLYENV || {};                                    if (document.getElementById(\"ce5ba704-7a17-4576-a773-82613cd1a066\")) {                    Plotly.newPlot(                        \"ce5ba704-7a17-4576-a773-82613cd1a066\",                        [{\"hovertemplate\": \"Year=%{x}<br>Wind energy|Total=%{y}<extra></extra>\", \"legendgroup\": \"\", \"line\": {\"color\": \"#636efa\", \"dash\": \"solid\"}, \"mode\": \"lines\", \"name\": \"\", \"orientation\": \"v\", \"showlegend\": false, \"type\": \"scatter\", \"x\": [2000, 2001, 2002, 2003, 2004, 2005, 2006, 2007, 2008, 2009, 2010, 2011, 2012, 2013, 2014, 2015, 2016, 2017, 2018, 2019, 2020], \"xaxis\": \"x\", \"y\": [829, 825, 947, 1320, 1871, 2067, 2734, 3438, 4260, 4581, 3993, 5100, 4982, 5627, 5797, 7550, 8170, 10569, 10549, 11508, 15268], \"yaxis\": \"y\"}],                        {\"legend\": {\"tracegroupgap\": 0}, \"margin\": {\"t\": 60}, \"template\": {\"data\": {\"bar\": [{\"error_x\": {\"color\": \"#2a3f5f\"}, \"error_y\": {\"color\": \"#2a3f5f\"}, \"marker\": {\"line\": {\"color\": \"#E5ECF6\", \"width\": 0.5}}, \"type\": \"bar\"}], \"barpolar\": [{\"marker\": {\"line\": {\"color\": \"#E5ECF6\", \"width\": 0.5}}, \"type\": \"barpolar\"}], \"carpet\": [{\"aaxis\": {\"endlinecolor\": \"#2a3f5f\", \"gridcolor\": \"white\", \"linecolor\": \"white\", \"minorgridcolor\": \"white\", \"startlinecolor\": \"#2a3f5f\"}, \"baxis\": {\"endlinecolor\": \"#2a3f5f\", \"gridcolor\": \"white\", \"linecolor\": \"white\", \"minorgridcolor\": \"white\", \"startlinecolor\": \"#2a3f5f\"}, \"type\": \"carpet\"}], \"choropleth\": [{\"colorbar\": {\"outlinewidth\": 0, \"ticks\": \"\"}, \"type\": \"choropleth\"}], \"contour\": [{\"colorbar\": {\"outlinewidth\": 0, \"ticks\": \"\"}, \"colorscale\": [[0.0, \"#0d0887\"], [0.1111111111111111, \"#46039f\"], [0.2222222222222222, \"#7201a8\"], [0.3333333333333333, \"#9c179e\"], [0.4444444444444444, \"#bd3786\"], [0.5555555555555556, \"#d8576b\"], [0.6666666666666666, \"#ed7953\"], [0.7777777777777778, \"#fb9f3a\"], [0.8888888888888888, \"#fdca26\"], [1.0, \"#f0f921\"]], \"type\": \"contour\"}], \"contourcarpet\": [{\"colorbar\": {\"outlinewidth\": 0, \"ticks\": \"\"}, \"type\": \"contourcarpet\"}], \"heatmap\": [{\"colorbar\": {\"outlinewidth\": 0, \"ticks\": \"\"}, \"colorscale\": [[0.0, \"#0d0887\"], [0.1111111111111111, \"#46039f\"], [0.2222222222222222, \"#7201a8\"], [0.3333333333333333, \"#9c179e\"], [0.4444444444444444, \"#bd3786\"], [0.5555555555555556, \"#d8576b\"], [0.6666666666666666, \"#ed7953\"], [0.7777777777777778, \"#fb9f3a\"], [0.8888888888888888, \"#fdca26\"], [1.0, \"#f0f921\"]], \"type\": \"heatmap\"}], \"heatmapgl\": [{\"colorbar\": {\"outlinewidth\": 0, \"ticks\": \"\"}, \"colorscale\": [[0.0, \"#0d0887\"], [0.1111111111111111, \"#46039f\"], [0.2222222222222222, \"#7201a8\"], [0.3333333333333333, \"#9c179e\"], [0.4444444444444444, \"#bd3786\"], [0.5555555555555556, \"#d8576b\"], [0.6666666666666666, \"#ed7953\"], [0.7777777777777778, \"#fb9f3a\"], [0.8888888888888888, \"#fdca26\"], [1.0, \"#f0f921\"]], \"type\": \"heatmapgl\"}], \"histogram\": [{\"marker\": {\"colorbar\": {\"outlinewidth\": 0, \"ticks\": \"\"}}, \"type\": \"histogram\"}], \"histogram2d\": [{\"colorbar\": {\"outlinewidth\": 0, \"ticks\": \"\"}, \"colorscale\": [[0.0, \"#0d0887\"], [0.1111111111111111, \"#46039f\"], [0.2222222222222222, \"#7201a8\"], [0.3333333333333333, \"#9c179e\"], [0.4444444444444444, \"#bd3786\"], [0.5555555555555556, \"#d8576b\"], [0.6666666666666666, \"#ed7953\"], [0.7777777777777778, \"#fb9f3a\"], [0.8888888888888888, \"#fdca26\"], [1.0, \"#f0f921\"]], \"type\": \"histogram2d\"}], \"histogram2dcontour\": [{\"colorbar\": {\"outlinewidth\": 0, \"ticks\": \"\"}, \"colorscale\": [[0.0, \"#0d0887\"], [0.1111111111111111, \"#46039f\"], [0.2222222222222222, \"#7201a8\"], [0.3333333333333333, \"#9c179e\"], [0.4444444444444444, \"#bd3786\"], [0.5555555555555556, \"#d8576b\"], [0.6666666666666666, \"#ed7953\"], [0.7777777777777778, \"#fb9f3a\"], [0.8888888888888888, \"#fdca26\"], [1.0, \"#f0f921\"]], \"type\": \"histogram2dcontour\"}], \"mesh3d\": [{\"colorbar\": {\"outlinewidth\": 0, \"ticks\": \"\"}, \"type\": \"mesh3d\"}], \"parcoords\": [{\"line\": {\"colorbar\": {\"outlinewidth\": 0, \"ticks\": \"\"}}, \"type\": \"parcoords\"}], \"pie\": [{\"automargin\": true, \"type\": \"pie\"}], \"scatter\": [{\"marker\": {\"colorbar\": {\"outlinewidth\": 0, \"ticks\": \"\"}}, \"type\": \"scatter\"}], \"scatter3d\": [{\"line\": {\"colorbar\": {\"outlinewidth\": 0, \"ticks\": \"\"}}, \"marker\": {\"colorbar\": {\"outlinewidth\": 0, \"ticks\": \"\"}}, \"type\": \"scatter3d\"}], \"scattercarpet\": [{\"marker\": {\"colorbar\": {\"outlinewidth\": 0, \"ticks\": \"\"}}, \"type\": \"scattercarpet\"}], \"scattergeo\": [{\"marker\": {\"colorbar\": {\"outlinewidth\": 0, \"ticks\": \"\"}}, \"type\": \"scattergeo\"}], \"scattergl\": [{\"marker\": {\"colorbar\": {\"outlinewidth\": 0, \"ticks\": \"\"}}, \"type\": \"scattergl\"}], \"scattermapbox\": [{\"marker\": {\"colorbar\": {\"outlinewidth\": 0, \"ticks\": \"\"}}, \"type\": \"scattermapbox\"}], \"scatterpolar\": [{\"marker\": {\"colorbar\": {\"outlinewidth\": 0, \"ticks\": \"\"}}, \"type\": \"scatterpolar\"}], \"scatterpolargl\": [{\"marker\": {\"colorbar\": {\"outlinewidth\": 0, \"ticks\": \"\"}}, \"type\": \"scatterpolargl\"}], \"scatterternary\": [{\"marker\": {\"colorbar\": {\"outlinewidth\": 0, \"ticks\": \"\"}}, \"type\": \"scatterternary\"}], \"surface\": [{\"colorbar\": {\"outlinewidth\": 0, \"ticks\": \"\"}, \"colorscale\": [[0.0, \"#0d0887\"], [0.1111111111111111, \"#46039f\"], [0.2222222222222222, \"#7201a8\"], [0.3333333333333333, \"#9c179e\"], [0.4444444444444444, \"#bd3786\"], [0.5555555555555556, \"#d8576b\"], [0.6666666666666666, \"#ed7953\"], [0.7777777777777778, \"#fb9f3a\"], [0.8888888888888888, \"#fdca26\"], [1.0, \"#f0f921\"]], \"type\": \"surface\"}], \"table\": [{\"cells\": {\"fill\": {\"color\": \"#EBF0F8\"}, \"line\": {\"color\": \"white\"}}, \"header\": {\"fill\": {\"color\": \"#C8D4E3\"}, \"line\": {\"color\": \"white\"}}, \"type\": \"table\"}]}, \"layout\": {\"annotationdefaults\": {\"arrowcolor\": \"#2a3f5f\", \"arrowhead\": 0, \"arrowwidth\": 1}, \"autotypenumbers\": \"strict\", \"coloraxis\": {\"colorbar\": {\"outlinewidth\": 0, \"ticks\": \"\"}}, \"colorscale\": {\"diverging\": [[0, \"#8e0152\"], [0.1, \"#c51b7d\"], [0.2, \"#de77ae\"], [0.3, \"#f1b6da\"], [0.4, \"#fde0ef\"], [0.5, \"#f7f7f7\"], [0.6, \"#e6f5d0\"], [0.7, \"#b8e186\"], [0.8, \"#7fbc41\"], [0.9, \"#4d9221\"], [1, \"#276419\"]], \"sequential\": [[0.0, \"#0d0887\"], [0.1111111111111111, \"#46039f\"], [0.2222222222222222, \"#7201a8\"], [0.3333333333333333, \"#9c179e\"], [0.4444444444444444, \"#bd3786\"], [0.5555555555555556, \"#d8576b\"], [0.6666666666666666, \"#ed7953\"], [0.7777777777777778, \"#fb9f3a\"], [0.8888888888888888, \"#fdca26\"], [1.0, \"#f0f921\"]], \"sequentialminus\": [[0.0, \"#0d0887\"], [0.1111111111111111, \"#46039f\"], [0.2222222222222222, \"#7201a8\"], [0.3333333333333333, \"#9c179e\"], [0.4444444444444444, \"#bd3786\"], [0.5555555555555556, \"#d8576b\"], [0.6666666666666666, \"#ed7953\"], [0.7777777777777778, \"#fb9f3a\"], [0.8888888888888888, \"#fdca26\"], [1.0, \"#f0f921\"]]}, \"colorway\": [\"#636efa\", \"#EF553B\", \"#00cc96\", \"#ab63fa\", \"#FFA15A\", \"#19d3f3\", \"#FF6692\", \"#B6E880\", \"#FF97FF\", \"#FECB52\"], \"font\": {\"color\": \"#2a3f5f\"}, \"geo\": {\"bgcolor\": \"white\", \"lakecolor\": \"white\", \"landcolor\": \"#E5ECF6\", \"showlakes\": true, \"showland\": true, \"subunitcolor\": \"white\"}, \"hoverlabel\": {\"align\": \"left\"}, \"hovermode\": \"closest\", \"mapbox\": {\"style\": \"light\"}, \"paper_bgcolor\": \"white\", \"plot_bgcolor\": \"#E5ECF6\", \"polar\": {\"angularaxis\": {\"gridcolor\": \"white\", \"linecolor\": \"white\", \"ticks\": \"\"}, \"bgcolor\": \"#E5ECF6\", \"radialaxis\": {\"gridcolor\": \"white\", \"linecolor\": \"white\", \"ticks\": \"\"}}, \"scene\": {\"xaxis\": {\"backgroundcolor\": \"#E5ECF6\", \"gridcolor\": \"white\", \"gridwidth\": 2, \"linecolor\": \"white\", \"showbackground\": true, \"ticks\": \"\", \"zerolinecolor\": \"white\"}, \"yaxis\": {\"backgroundcolor\": \"#E5ECF6\", \"gridcolor\": \"white\", \"gridwidth\": 2, \"linecolor\": \"white\", \"showbackground\": true, \"ticks\": \"\", \"zerolinecolor\": \"white\"}, \"zaxis\": {\"backgroundcolor\": \"#E5ECF6\", \"gridcolor\": \"white\", \"gridwidth\": 2, \"linecolor\": \"white\", \"showbackground\": true, \"ticks\": \"\", \"zerolinecolor\": \"white\"}}, \"shapedefaults\": {\"line\": {\"color\": \"#2a3f5f\"}}, \"ternary\": {\"aaxis\": {\"gridcolor\": \"white\", \"linecolor\": \"white\", \"ticks\": \"\"}, \"baxis\": {\"gridcolor\": \"white\", \"linecolor\": \"white\", \"ticks\": \"\"}, \"bgcolor\": \"#E5ECF6\", \"caxis\": {\"gridcolor\": \"white\", \"linecolor\": \"white\", \"ticks\": \"\"}}, \"title\": {\"x\": 0.05}, \"xaxis\": {\"automargin\": true, \"gridcolor\": \"white\", \"linecolor\": \"white\", \"ticks\": \"\", \"title\": {\"standoff\": 15}, \"zerolinecolor\": \"white\", \"zerolinewidth\": 2}, \"yaxis\": {\"automargin\": true, \"gridcolor\": \"white\", \"linecolor\": \"white\", \"ticks\": \"\", \"title\": {\"standoff\": 15}, \"zerolinecolor\": \"white\", \"zerolinewidth\": 2}}}, \"xaxis\": {\"anchor\": \"y\", \"domain\": [0.0, 1.0], \"title\": {\"text\": \"Year\"}}, \"yaxis\": {\"anchor\": \"x\", \"domain\": [0.0, 1.0], \"title\": {\"text\": \"Wind energy|Total\"}}},                        {\"responsive\": true}                    ).then(function(){\n",
       "                            \n",
       "var gd = document.getElementById('ce5ba704-7a17-4576-a773-82613cd1a066');\n",
       "var x = new MutationObserver(function (mutations, observer) {{\n",
       "        var display = window.getComputedStyle(gd).display;\n",
       "        if (!display || display === 'none') {{\n",
       "            console.log([gd, 'removed!']);\n",
       "            Plotly.purge(gd);\n",
       "            observer.disconnect();\n",
       "        }}\n",
       "}});\n",
       "\n",
       "// Listen for the removal of the full notebook cells\n",
       "var notebookContainer = gd.closest('#notebook-container');\n",
       "if (notebookContainer) {{\n",
       "    x.observe(notebookContainer, {childList: true});\n",
       "}}\n",
       "\n",
       "// Listen for the clearing of the current output cell\n",
       "var outputEl = gd.closest('.output');\n",
       "if (outputEl) {{\n",
       "    x.observe(outputEl, {childList: true});\n",
       "}}\n",
       "\n",
       "                        })                };                });            </script>        </div>"
      ]
     },
     "metadata": {},
     "output_type": "display_data"
    }
   ],
   "source": [
    "fig = px.line(dfs, x=\"Year\", y=\"Wind energy|Total\")\n",
    "fig.show()"
   ]
  },
  {
   "cell_type": "code",
   "execution_count": 35,
   "metadata": {},
   "outputs": [
    {
     "data": {
      "application/vnd.plotly.v1+json": {
       "config": {
        "plotlyServerURL": "https://plot.ly"
       },
       "data": [
        {
         "hovertemplate": "Year=%{x}<br>Wind energy on land=%{y}<extra></extra>",
         "legendgroup": "",
         "line": {
          "color": "#636efa",
          "dash": "solid"
         },
         "mode": "lines",
         "name": "",
         "orientation": "v",
         "showlegend": false,
         "type": "scatter",
         "x": [
          2000,
          2001,
          2002,
          2003,
          2004,
          2005,
          2006,
          2007,
          2008,
          2009,
          2010,
          2011,
          2012,
          2013,
          2014,
          2015,
          2016,
          2017,
          2018,
          2019,
          2020
         ],
         "xaxis": "x",
         "y": [
          829,
          825,
          947,
          1320,
          1871,
          2067,
          2666,
          3108,
          3664,
          3846,
          3315,
          4298,
          4193,
          4856,
          5049,
          6420,
          5901,
          6869,
          6918,
          7935,
          9785
         ],
         "yaxis": "y"
        }
       ],
       "layout": {
        "legend": {
         "tracegroupgap": 0
        },
        "template": {
         "data": {
          "bar": [
           {
            "error_x": {
             "color": "#2a3f5f"
            },
            "error_y": {
             "color": "#2a3f5f"
            },
            "marker": {
             "line": {
              "color": "#E5ECF6",
              "width": 0.5
             }
            },
            "type": "bar"
           }
          ],
          "barpolar": [
           {
            "marker": {
             "line": {
              "color": "#E5ECF6",
              "width": 0.5
             }
            },
            "type": "barpolar"
           }
          ],
          "carpet": [
           {
            "aaxis": {
             "endlinecolor": "#2a3f5f",
             "gridcolor": "white",
             "linecolor": "white",
             "minorgridcolor": "white",
             "startlinecolor": "#2a3f5f"
            },
            "baxis": {
             "endlinecolor": "#2a3f5f",
             "gridcolor": "white",
             "linecolor": "white",
             "minorgridcolor": "white",
             "startlinecolor": "#2a3f5f"
            },
            "type": "carpet"
           }
          ],
          "choropleth": [
           {
            "colorbar": {
             "outlinewidth": 0,
             "ticks": ""
            },
            "type": "choropleth"
           }
          ],
          "contour": [
           {
            "colorbar": {
             "outlinewidth": 0,
             "ticks": ""
            },
            "colorscale": [
             [
              0,
              "#0d0887"
             ],
             [
              0.1111111111111111,
              "#46039f"
             ],
             [
              0.2222222222222222,
              "#7201a8"
             ],
             [
              0.3333333333333333,
              "#9c179e"
             ],
             [
              0.4444444444444444,
              "#bd3786"
             ],
             [
              0.5555555555555556,
              "#d8576b"
             ],
             [
              0.6666666666666666,
              "#ed7953"
             ],
             [
              0.7777777777777778,
              "#fb9f3a"
             ],
             [
              0.8888888888888888,
              "#fdca26"
             ],
             [
              1,
              "#f0f921"
             ]
            ],
            "type": "contour"
           }
          ],
          "contourcarpet": [
           {
            "colorbar": {
             "outlinewidth": 0,
             "ticks": ""
            },
            "type": "contourcarpet"
           }
          ],
          "heatmap": [
           {
            "colorbar": {
             "outlinewidth": 0,
             "ticks": ""
            },
            "colorscale": [
             [
              0,
              "#0d0887"
             ],
             [
              0.1111111111111111,
              "#46039f"
             ],
             [
              0.2222222222222222,
              "#7201a8"
             ],
             [
              0.3333333333333333,
              "#9c179e"
             ],
             [
              0.4444444444444444,
              "#bd3786"
             ],
             [
              0.5555555555555556,
              "#d8576b"
             ],
             [
              0.6666666666666666,
              "#ed7953"
             ],
             [
              0.7777777777777778,
              "#fb9f3a"
             ],
             [
              0.8888888888888888,
              "#fdca26"
             ],
             [
              1,
              "#f0f921"
             ]
            ],
            "type": "heatmap"
           }
          ],
          "heatmapgl": [
           {
            "colorbar": {
             "outlinewidth": 0,
             "ticks": ""
            },
            "colorscale": [
             [
              0,
              "#0d0887"
             ],
             [
              0.1111111111111111,
              "#46039f"
             ],
             [
              0.2222222222222222,
              "#7201a8"
             ],
             [
              0.3333333333333333,
              "#9c179e"
             ],
             [
              0.4444444444444444,
              "#bd3786"
             ],
             [
              0.5555555555555556,
              "#d8576b"
             ],
             [
              0.6666666666666666,
              "#ed7953"
             ],
             [
              0.7777777777777778,
              "#fb9f3a"
             ],
             [
              0.8888888888888888,
              "#fdca26"
             ],
             [
              1,
              "#f0f921"
             ]
            ],
            "type": "heatmapgl"
           }
          ],
          "histogram": [
           {
            "marker": {
             "colorbar": {
              "outlinewidth": 0,
              "ticks": ""
             }
            },
            "type": "histogram"
           }
          ],
          "histogram2d": [
           {
            "colorbar": {
             "outlinewidth": 0,
             "ticks": ""
            },
            "colorscale": [
             [
              0,
              "#0d0887"
             ],
             [
              0.1111111111111111,
              "#46039f"
             ],
             [
              0.2222222222222222,
              "#7201a8"
             ],
             [
              0.3333333333333333,
              "#9c179e"
             ],
             [
              0.4444444444444444,
              "#bd3786"
             ],
             [
              0.5555555555555556,
              "#d8576b"
             ],
             [
              0.6666666666666666,
              "#ed7953"
             ],
             [
              0.7777777777777778,
              "#fb9f3a"
             ],
             [
              0.8888888888888888,
              "#fdca26"
             ],
             [
              1,
              "#f0f921"
             ]
            ],
            "type": "histogram2d"
           }
          ],
          "histogram2dcontour": [
           {
            "colorbar": {
             "outlinewidth": 0,
             "ticks": ""
            },
            "colorscale": [
             [
              0,
              "#0d0887"
             ],
             [
              0.1111111111111111,
              "#46039f"
             ],
             [
              0.2222222222222222,
              "#7201a8"
             ],
             [
              0.3333333333333333,
              "#9c179e"
             ],
             [
              0.4444444444444444,
              "#bd3786"
             ],
             [
              0.5555555555555556,
              "#d8576b"
             ],
             [
              0.6666666666666666,
              "#ed7953"
             ],
             [
              0.7777777777777778,
              "#fb9f3a"
             ],
             [
              0.8888888888888888,
              "#fdca26"
             ],
             [
              1,
              "#f0f921"
             ]
            ],
            "type": "histogram2dcontour"
           }
          ],
          "mesh3d": [
           {
            "colorbar": {
             "outlinewidth": 0,
             "ticks": ""
            },
            "type": "mesh3d"
           }
          ],
          "parcoords": [
           {
            "line": {
             "colorbar": {
              "outlinewidth": 0,
              "ticks": ""
             }
            },
            "type": "parcoords"
           }
          ],
          "pie": [
           {
            "automargin": true,
            "type": "pie"
           }
          ],
          "scatter": [
           {
            "marker": {
             "colorbar": {
              "outlinewidth": 0,
              "ticks": ""
             }
            },
            "type": "scatter"
           }
          ],
          "scatter3d": [
           {
            "line": {
             "colorbar": {
              "outlinewidth": 0,
              "ticks": ""
             }
            },
            "marker": {
             "colorbar": {
              "outlinewidth": 0,
              "ticks": ""
             }
            },
            "type": "scatter3d"
           }
          ],
          "scattercarpet": [
           {
            "marker": {
             "colorbar": {
              "outlinewidth": 0,
              "ticks": ""
             }
            },
            "type": "scattercarpet"
           }
          ],
          "scattergeo": [
           {
            "marker": {
             "colorbar": {
              "outlinewidth": 0,
              "ticks": ""
             }
            },
            "type": "scattergeo"
           }
          ],
          "scattergl": [
           {
            "marker": {
             "colorbar": {
              "outlinewidth": 0,
              "ticks": ""
             }
            },
            "type": "scattergl"
           }
          ],
          "scattermapbox": [
           {
            "marker": {
             "colorbar": {
              "outlinewidth": 0,
              "ticks": ""
             }
            },
            "type": "scattermapbox"
           }
          ],
          "scatterpolar": [
           {
            "marker": {
             "colorbar": {
              "outlinewidth": 0,
              "ticks": ""
             }
            },
            "type": "scatterpolar"
           }
          ],
          "scatterpolargl": [
           {
            "marker": {
             "colorbar": {
              "outlinewidth": 0,
              "ticks": ""
             }
            },
            "type": "scatterpolargl"
           }
          ],
          "scatterternary": [
           {
            "marker": {
             "colorbar": {
              "outlinewidth": 0,
              "ticks": ""
             }
            },
            "type": "scatterternary"
           }
          ],
          "surface": [
           {
            "colorbar": {
             "outlinewidth": 0,
             "ticks": ""
            },
            "colorscale": [
             [
              0,
              "#0d0887"
             ],
             [
              0.1111111111111111,
              "#46039f"
             ],
             [
              0.2222222222222222,
              "#7201a8"
             ],
             [
              0.3333333333333333,
              "#9c179e"
             ],
             [
              0.4444444444444444,
              "#bd3786"
             ],
             [
              0.5555555555555556,
              "#d8576b"
             ],
             [
              0.6666666666666666,
              "#ed7953"
             ],
             [
              0.7777777777777778,
              "#fb9f3a"
             ],
             [
              0.8888888888888888,
              "#fdca26"
             ],
             [
              1,
              "#f0f921"
             ]
            ],
            "type": "surface"
           }
          ],
          "table": [
           {
            "cells": {
             "fill": {
              "color": "#EBF0F8"
             },
             "line": {
              "color": "white"
             }
            },
            "header": {
             "fill": {
              "color": "#C8D4E3"
             },
             "line": {
              "color": "white"
             }
            },
            "type": "table"
           }
          ]
         },
         "layout": {
          "annotationdefaults": {
           "arrowcolor": "#2a3f5f",
           "arrowhead": 0,
           "arrowwidth": 1
          },
          "autotypenumbers": "strict",
          "coloraxis": {
           "colorbar": {
            "outlinewidth": 0,
            "ticks": ""
           }
          },
          "colorscale": {
           "diverging": [
            [
             0,
             "#8e0152"
            ],
            [
             0.1,
             "#c51b7d"
            ],
            [
             0.2,
             "#de77ae"
            ],
            [
             0.3,
             "#f1b6da"
            ],
            [
             0.4,
             "#fde0ef"
            ],
            [
             0.5,
             "#f7f7f7"
            ],
            [
             0.6,
             "#e6f5d0"
            ],
            [
             0.7,
             "#b8e186"
            ],
            [
             0.8,
             "#7fbc41"
            ],
            [
             0.9,
             "#4d9221"
            ],
            [
             1,
             "#276419"
            ]
           ],
           "sequential": [
            [
             0,
             "#0d0887"
            ],
            [
             0.1111111111111111,
             "#46039f"
            ],
            [
             0.2222222222222222,
             "#7201a8"
            ],
            [
             0.3333333333333333,
             "#9c179e"
            ],
            [
             0.4444444444444444,
             "#bd3786"
            ],
            [
             0.5555555555555556,
             "#d8576b"
            ],
            [
             0.6666666666666666,
             "#ed7953"
            ],
            [
             0.7777777777777778,
             "#fb9f3a"
            ],
            [
             0.8888888888888888,
             "#fdca26"
            ],
            [
             1,
             "#f0f921"
            ]
           ],
           "sequentialminus": [
            [
             0,
             "#0d0887"
            ],
            [
             0.1111111111111111,
             "#46039f"
            ],
            [
             0.2222222222222222,
             "#7201a8"
            ],
            [
             0.3333333333333333,
             "#9c179e"
            ],
            [
             0.4444444444444444,
             "#bd3786"
            ],
            [
             0.5555555555555556,
             "#d8576b"
            ],
            [
             0.6666666666666666,
             "#ed7953"
            ],
            [
             0.7777777777777778,
             "#fb9f3a"
            ],
            [
             0.8888888888888888,
             "#fdca26"
            ],
            [
             1,
             "#f0f921"
            ]
           ]
          },
          "colorway": [
           "#636efa",
           "#EF553B",
           "#00cc96",
           "#ab63fa",
           "#FFA15A",
           "#19d3f3",
           "#FF6692",
           "#B6E880",
           "#FF97FF",
           "#FECB52"
          ],
          "font": {
           "color": "#2a3f5f"
          },
          "geo": {
           "bgcolor": "white",
           "lakecolor": "white",
           "landcolor": "#E5ECF6",
           "showlakes": true,
           "showland": true,
           "subunitcolor": "white"
          },
          "hoverlabel": {
           "align": "left"
          },
          "hovermode": "closest",
          "mapbox": {
           "style": "light"
          },
          "paper_bgcolor": "white",
          "plot_bgcolor": "#E5ECF6",
          "polar": {
           "angularaxis": {
            "gridcolor": "white",
            "linecolor": "white",
            "ticks": ""
           },
           "bgcolor": "#E5ECF6",
           "radialaxis": {
            "gridcolor": "white",
            "linecolor": "white",
            "ticks": ""
           }
          },
          "scene": {
           "xaxis": {
            "backgroundcolor": "#E5ECF6",
            "gridcolor": "white",
            "gridwidth": 2,
            "linecolor": "white",
            "showbackground": true,
            "ticks": "",
            "zerolinecolor": "white"
           },
           "yaxis": {
            "backgroundcolor": "#E5ECF6",
            "gridcolor": "white",
            "gridwidth": 2,
            "linecolor": "white",
            "showbackground": true,
            "ticks": "",
            "zerolinecolor": "white"
           },
           "zaxis": {
            "backgroundcolor": "#E5ECF6",
            "gridcolor": "white",
            "gridwidth": 2,
            "linecolor": "white",
            "showbackground": true,
            "ticks": "",
            "zerolinecolor": "white"
           }
          },
          "shapedefaults": {
           "line": {
            "color": "#2a3f5f"
           }
          },
          "ternary": {
           "aaxis": {
            "gridcolor": "white",
            "linecolor": "white",
            "ticks": ""
           },
           "baxis": {
            "gridcolor": "white",
            "linecolor": "white",
            "ticks": ""
           },
           "bgcolor": "#E5ECF6",
           "caxis": {
            "gridcolor": "white",
            "linecolor": "white",
            "ticks": ""
           }
          },
          "title": {
           "x": 0.05
          },
          "xaxis": {
           "automargin": true,
           "gridcolor": "white",
           "linecolor": "white",
           "ticks": "",
           "title": {
            "standoff": 15
           },
           "zerolinecolor": "white",
           "zerolinewidth": 2
          },
          "yaxis": {
           "automargin": true,
           "gridcolor": "white",
           "linecolor": "white",
           "ticks": "",
           "title": {
            "standoff": 15
           },
           "zerolinecolor": "white",
           "zerolinewidth": 2
          }
         }
        },
        "title": {
         "text": "Wind energy on land"
        },
        "xaxis": {
         "anchor": "y",
         "domain": [
          0,
          1
         ],
         "title": {
          "text": "Year"
         }
        },
        "yaxis": {
         "anchor": "x",
         "domain": [
          0,
          1
         ],
         "title": {
          "text": "Wind energy on land"
         }
        }
       }
      },
      "text/html": [
       "<div>                            <div id=\"31a54cfa-5d3b-4014-a894-d8e34915c28f\" class=\"plotly-graph-div\" style=\"height:525px; width:100%;\"></div>            <script type=\"text/javascript\">                require([\"plotly\"], function(Plotly) {                    window.PLOTLYENV=window.PLOTLYENV || {};                                    if (document.getElementById(\"31a54cfa-5d3b-4014-a894-d8e34915c28f\")) {                    Plotly.newPlot(                        \"31a54cfa-5d3b-4014-a894-d8e34915c28f\",                        [{\"hovertemplate\": \"Year=%{x}<br>Wind energy on land=%{y}<extra></extra>\", \"legendgroup\": \"\", \"line\": {\"color\": \"#636efa\", \"dash\": \"solid\"}, \"mode\": \"lines\", \"name\": \"\", \"orientation\": \"v\", \"showlegend\": false, \"type\": \"scatter\", \"x\": [2000, 2001, 2002, 2003, 2004, 2005, 2006, 2007, 2008, 2009, 2010, 2011, 2012, 2013, 2014, 2015, 2016, 2017, 2018, 2019, 2020], \"xaxis\": \"x\", \"y\": [829, 825, 947, 1320, 1871, 2067, 2666, 3108, 3664, 3846, 3315, 4298, 4193, 4856, 5049, 6420, 5901, 6869, 6918, 7935, 9785], \"yaxis\": \"y\"}],                        {\"legend\": {\"tracegroupgap\": 0}, \"template\": {\"data\": {\"bar\": [{\"error_x\": {\"color\": \"#2a3f5f\"}, \"error_y\": {\"color\": \"#2a3f5f\"}, \"marker\": {\"line\": {\"color\": \"#E5ECF6\", \"width\": 0.5}}, \"type\": \"bar\"}], \"barpolar\": [{\"marker\": {\"line\": {\"color\": \"#E5ECF6\", \"width\": 0.5}}, \"type\": \"barpolar\"}], \"carpet\": [{\"aaxis\": {\"endlinecolor\": \"#2a3f5f\", \"gridcolor\": \"white\", \"linecolor\": \"white\", \"minorgridcolor\": \"white\", \"startlinecolor\": \"#2a3f5f\"}, \"baxis\": {\"endlinecolor\": \"#2a3f5f\", \"gridcolor\": \"white\", \"linecolor\": \"white\", \"minorgridcolor\": \"white\", \"startlinecolor\": \"#2a3f5f\"}, \"type\": \"carpet\"}], \"choropleth\": [{\"colorbar\": {\"outlinewidth\": 0, \"ticks\": \"\"}, \"type\": \"choropleth\"}], \"contour\": [{\"colorbar\": {\"outlinewidth\": 0, \"ticks\": \"\"}, \"colorscale\": [[0.0, \"#0d0887\"], [0.1111111111111111, \"#46039f\"], [0.2222222222222222, \"#7201a8\"], [0.3333333333333333, \"#9c179e\"], [0.4444444444444444, \"#bd3786\"], [0.5555555555555556, \"#d8576b\"], [0.6666666666666666, \"#ed7953\"], [0.7777777777777778, \"#fb9f3a\"], [0.8888888888888888, \"#fdca26\"], [1.0, \"#f0f921\"]], \"type\": \"contour\"}], \"contourcarpet\": [{\"colorbar\": {\"outlinewidth\": 0, \"ticks\": \"\"}, \"type\": \"contourcarpet\"}], \"heatmap\": [{\"colorbar\": {\"outlinewidth\": 0, \"ticks\": \"\"}, \"colorscale\": [[0.0, \"#0d0887\"], [0.1111111111111111, \"#46039f\"], [0.2222222222222222, \"#7201a8\"], [0.3333333333333333, \"#9c179e\"], [0.4444444444444444, \"#bd3786\"], [0.5555555555555556, \"#d8576b\"], [0.6666666666666666, \"#ed7953\"], [0.7777777777777778, \"#fb9f3a\"], [0.8888888888888888, \"#fdca26\"], [1.0, \"#f0f921\"]], \"type\": \"heatmap\"}], \"heatmapgl\": [{\"colorbar\": {\"outlinewidth\": 0, \"ticks\": \"\"}, \"colorscale\": [[0.0, \"#0d0887\"], [0.1111111111111111, \"#46039f\"], [0.2222222222222222, \"#7201a8\"], [0.3333333333333333, \"#9c179e\"], [0.4444444444444444, \"#bd3786\"], [0.5555555555555556, \"#d8576b\"], [0.6666666666666666, \"#ed7953\"], [0.7777777777777778, \"#fb9f3a\"], [0.8888888888888888, \"#fdca26\"], [1.0, \"#f0f921\"]], \"type\": \"heatmapgl\"}], \"histogram\": [{\"marker\": {\"colorbar\": {\"outlinewidth\": 0, \"ticks\": \"\"}}, \"type\": \"histogram\"}], \"histogram2d\": [{\"colorbar\": {\"outlinewidth\": 0, \"ticks\": \"\"}, \"colorscale\": [[0.0, \"#0d0887\"], [0.1111111111111111, \"#46039f\"], [0.2222222222222222, \"#7201a8\"], [0.3333333333333333, \"#9c179e\"], [0.4444444444444444, \"#bd3786\"], [0.5555555555555556, \"#d8576b\"], [0.6666666666666666, \"#ed7953\"], [0.7777777777777778, \"#fb9f3a\"], [0.8888888888888888, \"#fdca26\"], [1.0, \"#f0f921\"]], \"type\": \"histogram2d\"}], \"histogram2dcontour\": [{\"colorbar\": {\"outlinewidth\": 0, \"ticks\": \"\"}, \"colorscale\": [[0.0, \"#0d0887\"], [0.1111111111111111, \"#46039f\"], [0.2222222222222222, \"#7201a8\"], [0.3333333333333333, \"#9c179e\"], [0.4444444444444444, \"#bd3786\"], [0.5555555555555556, \"#d8576b\"], [0.6666666666666666, \"#ed7953\"], [0.7777777777777778, \"#fb9f3a\"], [0.8888888888888888, \"#fdca26\"], [1.0, \"#f0f921\"]], \"type\": \"histogram2dcontour\"}], \"mesh3d\": [{\"colorbar\": {\"outlinewidth\": 0, \"ticks\": \"\"}, \"type\": \"mesh3d\"}], \"parcoords\": [{\"line\": {\"colorbar\": {\"outlinewidth\": 0, \"ticks\": \"\"}}, \"type\": \"parcoords\"}], \"pie\": [{\"automargin\": true, \"type\": \"pie\"}], \"scatter\": [{\"marker\": {\"colorbar\": {\"outlinewidth\": 0, \"ticks\": \"\"}}, \"type\": \"scatter\"}], \"scatter3d\": [{\"line\": {\"colorbar\": {\"outlinewidth\": 0, \"ticks\": \"\"}}, \"marker\": {\"colorbar\": {\"outlinewidth\": 0, \"ticks\": \"\"}}, \"type\": \"scatter3d\"}], \"scattercarpet\": [{\"marker\": {\"colorbar\": {\"outlinewidth\": 0, \"ticks\": \"\"}}, \"type\": \"scattercarpet\"}], \"scattergeo\": [{\"marker\": {\"colorbar\": {\"outlinewidth\": 0, \"ticks\": \"\"}}, \"type\": \"scattergeo\"}], \"scattergl\": [{\"marker\": {\"colorbar\": {\"outlinewidth\": 0, \"ticks\": \"\"}}, \"type\": \"scattergl\"}], \"scattermapbox\": [{\"marker\": {\"colorbar\": {\"outlinewidth\": 0, \"ticks\": \"\"}}, \"type\": \"scattermapbox\"}], \"scatterpolar\": [{\"marker\": {\"colorbar\": {\"outlinewidth\": 0, \"ticks\": \"\"}}, \"type\": \"scatterpolar\"}], \"scatterpolargl\": [{\"marker\": {\"colorbar\": {\"outlinewidth\": 0, \"ticks\": \"\"}}, \"type\": \"scatterpolargl\"}], \"scatterternary\": [{\"marker\": {\"colorbar\": {\"outlinewidth\": 0, \"ticks\": \"\"}}, \"type\": \"scatterternary\"}], \"surface\": [{\"colorbar\": {\"outlinewidth\": 0, \"ticks\": \"\"}, \"colorscale\": [[0.0, \"#0d0887\"], [0.1111111111111111, \"#46039f\"], [0.2222222222222222, \"#7201a8\"], [0.3333333333333333, \"#9c179e\"], [0.4444444444444444, \"#bd3786\"], [0.5555555555555556, \"#d8576b\"], [0.6666666666666666, \"#ed7953\"], [0.7777777777777778, \"#fb9f3a\"], [0.8888888888888888, \"#fdca26\"], [1.0, \"#f0f921\"]], \"type\": \"surface\"}], \"table\": [{\"cells\": {\"fill\": {\"color\": \"#EBF0F8\"}, \"line\": {\"color\": \"white\"}}, \"header\": {\"fill\": {\"color\": \"#C8D4E3\"}, \"line\": {\"color\": \"white\"}}, \"type\": \"table\"}]}, \"layout\": {\"annotationdefaults\": {\"arrowcolor\": \"#2a3f5f\", \"arrowhead\": 0, \"arrowwidth\": 1}, \"autotypenumbers\": \"strict\", \"coloraxis\": {\"colorbar\": {\"outlinewidth\": 0, \"ticks\": \"\"}}, \"colorscale\": {\"diverging\": [[0, \"#8e0152\"], [0.1, \"#c51b7d\"], [0.2, \"#de77ae\"], [0.3, \"#f1b6da\"], [0.4, \"#fde0ef\"], [0.5, \"#f7f7f7\"], [0.6, \"#e6f5d0\"], [0.7, \"#b8e186\"], [0.8, \"#7fbc41\"], [0.9, \"#4d9221\"], [1, \"#276419\"]], \"sequential\": [[0.0, \"#0d0887\"], [0.1111111111111111, \"#46039f\"], [0.2222222222222222, \"#7201a8\"], [0.3333333333333333, \"#9c179e\"], [0.4444444444444444, \"#bd3786\"], [0.5555555555555556, \"#d8576b\"], [0.6666666666666666, \"#ed7953\"], [0.7777777777777778, \"#fb9f3a\"], [0.8888888888888888, \"#fdca26\"], [1.0, \"#f0f921\"]], \"sequentialminus\": [[0.0, \"#0d0887\"], [0.1111111111111111, \"#46039f\"], [0.2222222222222222, \"#7201a8\"], [0.3333333333333333, \"#9c179e\"], [0.4444444444444444, \"#bd3786\"], [0.5555555555555556, \"#d8576b\"], [0.6666666666666666, \"#ed7953\"], [0.7777777777777778, \"#fb9f3a\"], [0.8888888888888888, \"#fdca26\"], [1.0, \"#f0f921\"]]}, \"colorway\": [\"#636efa\", \"#EF553B\", \"#00cc96\", \"#ab63fa\", \"#FFA15A\", \"#19d3f3\", \"#FF6692\", \"#B6E880\", \"#FF97FF\", \"#FECB52\"], \"font\": {\"color\": \"#2a3f5f\"}, \"geo\": {\"bgcolor\": \"white\", \"lakecolor\": \"white\", \"landcolor\": \"#E5ECF6\", \"showlakes\": true, \"showland\": true, \"subunitcolor\": \"white\"}, \"hoverlabel\": {\"align\": \"left\"}, \"hovermode\": \"closest\", \"mapbox\": {\"style\": \"light\"}, \"paper_bgcolor\": \"white\", \"plot_bgcolor\": \"#E5ECF6\", \"polar\": {\"angularaxis\": {\"gridcolor\": \"white\", \"linecolor\": \"white\", \"ticks\": \"\"}, \"bgcolor\": \"#E5ECF6\", \"radialaxis\": {\"gridcolor\": \"white\", \"linecolor\": \"white\", \"ticks\": \"\"}}, \"scene\": {\"xaxis\": {\"backgroundcolor\": \"#E5ECF6\", \"gridcolor\": \"white\", \"gridwidth\": 2, \"linecolor\": \"white\", \"showbackground\": true, \"ticks\": \"\", \"zerolinecolor\": \"white\"}, \"yaxis\": {\"backgroundcolor\": \"#E5ECF6\", \"gridcolor\": \"white\", \"gridwidth\": 2, \"linecolor\": \"white\", \"showbackground\": true, \"ticks\": \"\", \"zerolinecolor\": \"white\"}, \"zaxis\": {\"backgroundcolor\": \"#E5ECF6\", \"gridcolor\": \"white\", \"gridwidth\": 2, \"linecolor\": \"white\", \"showbackground\": true, \"ticks\": \"\", \"zerolinecolor\": \"white\"}}, \"shapedefaults\": {\"line\": {\"color\": \"#2a3f5f\"}}, \"ternary\": {\"aaxis\": {\"gridcolor\": \"white\", \"linecolor\": \"white\", \"ticks\": \"\"}, \"baxis\": {\"gridcolor\": \"white\", \"linecolor\": \"white\", \"ticks\": \"\"}, \"bgcolor\": \"#E5ECF6\", \"caxis\": {\"gridcolor\": \"white\", \"linecolor\": \"white\", \"ticks\": \"\"}}, \"title\": {\"x\": 0.05}, \"xaxis\": {\"automargin\": true, \"gridcolor\": \"white\", \"linecolor\": \"white\", \"ticks\": \"\", \"title\": {\"standoff\": 15}, \"zerolinecolor\": \"white\", \"zerolinewidth\": 2}, \"yaxis\": {\"automargin\": true, \"gridcolor\": \"white\", \"linecolor\": \"white\", \"ticks\": \"\", \"title\": {\"standoff\": 15}, \"zerolinecolor\": \"white\", \"zerolinewidth\": 2}}}, \"title\": {\"text\": \"Wind energy on land\"}, \"xaxis\": {\"anchor\": \"y\", \"domain\": [0.0, 1.0], \"title\": {\"text\": \"Year\"}}, \"yaxis\": {\"anchor\": \"x\", \"domain\": [0.0, 1.0], \"title\": {\"text\": \"Wind energy on land\"}}},                        {\"responsive\": true}                    ).then(function(){\n",
       "                            \n",
       "var gd = document.getElementById('31a54cfa-5d3b-4014-a894-d8e34915c28f');\n",
       "var x = new MutationObserver(function (mutations, observer) {{\n",
       "        var display = window.getComputedStyle(gd).display;\n",
       "        if (!display || display === 'none') {{\n",
       "            console.log([gd, 'removed!']);\n",
       "            Plotly.purge(gd);\n",
       "            observer.disconnect();\n",
       "        }}\n",
       "}});\n",
       "\n",
       "// Listen for the removal of the full notebook cells\n",
       "var notebookContainer = gd.closest('#notebook-container');\n",
       "if (notebookContainer) {{\n",
       "    x.observe(notebookContainer, {childList: true});\n",
       "}}\n",
       "\n",
       "// Listen for the clearing of the current output cell\n",
       "var outputEl = gd.closest('.output');\n",
       "if (outputEl) {{\n",
       "    x.observe(outputEl, {childList: true});\n",
       "}}\n",
       "\n",
       "                        })                };                });            </script>        </div>"
      ]
     },
     "metadata": {},
     "output_type": "display_data"
    }
   ],
   "source": [
    "fig = px.line(dfs, x=\"Year\", y=\"Wind energy on land\", title='Wind energy on land')\n",
    "fig.show()"
   ]
  },
  {
   "cell_type": "code",
   "execution_count": null,
   "metadata": {},
   "outputs": [],
   "source": []
  },
  {
   "cell_type": "code",
   "execution_count": null,
   "metadata": {},
   "outputs": [],
   "source": []
  },
  {
   "cell_type": "code",
   "execution_count": 36,
   "metadata": {},
   "outputs": [],
   "source": [
    "app = dash.Dash(__name__)"
   ]
  },
  {
   "cell_type": "code",
   "execution_count": 37,
   "metadata": {},
   "outputs": [
    {
     "data": {
      "text/html": [
       "<div>\n",
       "<style scoped>\n",
       "    .dataframe tbody tr th:only-of-type {\n",
       "        vertical-align: middle;\n",
       "    }\n",
       "\n",
       "    .dataframe tbody tr th {\n",
       "        vertical-align: top;\n",
       "    }\n",
       "\n",
       "    .dataframe thead th {\n",
       "        text-align: right;\n",
       "    }\n",
       "</style>\n",
       "<table border=\"1\" class=\"dataframe\">\n",
       "  <thead>\n",
       "    <tr style=\"text-align: right;\">\n",
       "      <th></th>\n",
       "      <th>Year</th>\n",
       "      <th>Wind energy on land</th>\n",
       "      <th>Wind energy at sea</th>\n",
       "      <th>Solar power</th>\n",
       "      <th>Gross production</th>\n",
       "      <th>Wind energy|Total</th>\n",
       "    </tr>\n",
       "  </thead>\n",
       "  <tbody>\n",
       "    <tr>\n",
       "      <th>371</th>\n",
       "      <td>2000</td>\n",
       "      <td>829</td>\n",
       "      <td>0</td>\n",
       "      <td>8</td>\n",
       "      <td>89426</td>\n",
       "      <td>829</td>\n",
       "    </tr>\n",
       "    <tr>\n",
       "      <th>384</th>\n",
       "      <td>2001</td>\n",
       "      <td>825</td>\n",
       "      <td>0</td>\n",
       "      <td>12</td>\n",
       "      <td>94240</td>\n",
       "      <td>825</td>\n",
       "    </tr>\n",
       "    <tr>\n",
       "      <th>397</th>\n",
       "      <td>2002</td>\n",
       "      <td>947</td>\n",
       "      <td>0</td>\n",
       "      <td>16</td>\n",
       "      <td>95914</td>\n",
       "      <td>947</td>\n",
       "    </tr>\n",
       "    <tr>\n",
       "      <th>410</th>\n",
       "      <td>2003</td>\n",
       "      <td>1320</td>\n",
       "      <td>0</td>\n",
       "      <td>25</td>\n",
       "      <td>96695</td>\n",
       "      <td>1320</td>\n",
       "    </tr>\n",
       "    <tr>\n",
       "      <th>423</th>\n",
       "      <td>2004</td>\n",
       "      <td>1871</td>\n",
       "      <td>0</td>\n",
       "      <td>34</td>\n",
       "      <td>100725</td>\n",
       "      <td>1871</td>\n",
       "    </tr>\n",
       "    <tr>\n",
       "      <th>436</th>\n",
       "      <td>2005</td>\n",
       "      <td>2067</td>\n",
       "      <td>0</td>\n",
       "      <td>35</td>\n",
       "      <td>100424</td>\n",
       "      <td>2067</td>\n",
       "    </tr>\n",
       "    <tr>\n",
       "      <th>449</th>\n",
       "      <td>2006</td>\n",
       "      <td>2666</td>\n",
       "      <td>68</td>\n",
       "      <td>37</td>\n",
       "      <td>98835</td>\n",
       "      <td>2734</td>\n",
       "    </tr>\n",
       "    <tr>\n",
       "      <th>462</th>\n",
       "      <td>2007</td>\n",
       "      <td>3108</td>\n",
       "      <td>330</td>\n",
       "      <td>38</td>\n",
       "      <td>105164</td>\n",
       "      <td>3438</td>\n",
       "    </tr>\n",
       "    <tr>\n",
       "      <th>475</th>\n",
       "      <td>2008</td>\n",
       "      <td>3664</td>\n",
       "      <td>596</td>\n",
       "      <td>40</td>\n",
       "      <td>108201</td>\n",
       "      <td>4260</td>\n",
       "    </tr>\n",
       "    <tr>\n",
       "      <th>488</th>\n",
       "      <td>2009</td>\n",
       "      <td>3846</td>\n",
       "      <td>735</td>\n",
       "      <td>45</td>\n",
       "      <td>113503</td>\n",
       "      <td>4581</td>\n",
       "    </tr>\n",
       "    <tr>\n",
       "      <th>501</th>\n",
       "      <td>2010</td>\n",
       "      <td>3315</td>\n",
       "      <td>679</td>\n",
       "      <td>56</td>\n",
       "      <td>118150</td>\n",
       "      <td>3993</td>\n",
       "    </tr>\n",
       "    <tr>\n",
       "      <th>514</th>\n",
       "      <td>2011</td>\n",
       "      <td>4298</td>\n",
       "      <td>802</td>\n",
       "      <td>104</td>\n",
       "      <td>112966</td>\n",
       "      <td>5100</td>\n",
       "    </tr>\n",
       "    <tr>\n",
       "      <th>527</th>\n",
       "      <td>2012</td>\n",
       "      <td>4193</td>\n",
       "      <td>789</td>\n",
       "      <td>191</td>\n",
       "      <td>102505</td>\n",
       "      <td>4982</td>\n",
       "    </tr>\n",
       "    <tr>\n",
       "      <th>540</th>\n",
       "      <td>2013</td>\n",
       "      <td>4856</td>\n",
       "      <td>771</td>\n",
       "      <td>410</td>\n",
       "      <td>100875</td>\n",
       "      <td>5627</td>\n",
       "    </tr>\n",
       "    <tr>\n",
       "      <th>553</th>\n",
       "      <td>2014</td>\n",
       "      <td>5049</td>\n",
       "      <td>748</td>\n",
       "      <td>725</td>\n",
       "      <td>103365</td>\n",
       "      <td>5797</td>\n",
       "    </tr>\n",
       "    <tr>\n",
       "      <th>566</th>\n",
       "      <td>2015</td>\n",
       "      <td>6420</td>\n",
       "      <td>1130</td>\n",
       "      <td>1109</td>\n",
       "      <td>110388</td>\n",
       "      <td>7550</td>\n",
       "    </tr>\n",
       "    <tr>\n",
       "      <th>579</th>\n",
       "      <td>2016</td>\n",
       "      <td>5901</td>\n",
       "      <td>2269</td>\n",
       "      <td>1602</td>\n",
       "      <td>115213</td>\n",
       "      <td>8170</td>\n",
       "    </tr>\n",
       "    <tr>\n",
       "      <th>592</th>\n",
       "      <td>2017</td>\n",
       "      <td>6869</td>\n",
       "      <td>3700</td>\n",
       "      <td>2204</td>\n",
       "      <td>117260</td>\n",
       "      <td>10569</td>\n",
       "    </tr>\n",
       "    <tr>\n",
       "      <th>605</th>\n",
       "      <td>2018</td>\n",
       "      <td>6918</td>\n",
       "      <td>3630</td>\n",
       "      <td>3709</td>\n",
       "      <td>114103</td>\n",
       "      <td>10549</td>\n",
       "    </tr>\n",
       "    <tr>\n",
       "      <th>618</th>\n",
       "      <td>2019</td>\n",
       "      <td>7935</td>\n",
       "      <td>3573</td>\n",
       "      <td>5336</td>\n",
       "      <td>121062</td>\n",
       "      <td>11508</td>\n",
       "    </tr>\n",
       "    <tr>\n",
       "      <th>631</th>\n",
       "      <td>2020</td>\n",
       "      <td>9785</td>\n",
       "      <td>5484</td>\n",
       "      <td>8056</td>\n",
       "      <td>122377</td>\n",
       "      <td>15268</td>\n",
       "    </tr>\n",
       "  </tbody>\n",
       "</table>\n",
       "</div>"
      ],
      "text/plain": [
       "     Year  Wind energy on land  Wind energy at sea  Solar power  \\\n",
       "371  2000                  829                   0            8   \n",
       "384  2001                  825                   0           12   \n",
       "397  2002                  947                   0           16   \n",
       "410  2003                 1320                   0           25   \n",
       "423  2004                 1871                   0           34   \n",
       "436  2005                 2067                   0           35   \n",
       "449  2006                 2666                  68           37   \n",
       "462  2007                 3108                 330           38   \n",
       "475  2008                 3664                 596           40   \n",
       "488  2009                 3846                 735           45   \n",
       "501  2010                 3315                 679           56   \n",
       "514  2011                 4298                 802          104   \n",
       "527  2012                 4193                 789          191   \n",
       "540  2013                 4856                 771          410   \n",
       "553  2014                 5049                 748          725   \n",
       "566  2015                 6420                1130         1109   \n",
       "579  2016                 5901                2269         1602   \n",
       "592  2017                 6869                3700         2204   \n",
       "605  2018                 6918                3630         3709   \n",
       "618  2019                 7935                3573         5336   \n",
       "631  2020                 9785                5484         8056   \n",
       "\n",
       "     Gross production  Wind energy|Total  \n",
       "371             89426                829  \n",
       "384             94240                825  \n",
       "397             95914                947  \n",
       "410             96695               1320  \n",
       "423            100725               1871  \n",
       "436            100424               2067  \n",
       "449             98835               2734  \n",
       "462            105164               3438  \n",
       "475            108201               4260  \n",
       "488            113503               4581  \n",
       "501            118150               3993  \n",
       "514            112966               5100  \n",
       "527            102505               4982  \n",
       "540            100875               5627  \n",
       "553            103365               5797  \n",
       "566            110388               7550  \n",
       "579            115213               8170  \n",
       "592            117260              10569  \n",
       "605            114103              10549  \n",
       "618            121062              11508  \n",
       "631            122377              15268  "
      ]
     },
     "execution_count": 37,
     "metadata": {},
     "output_type": "execute_result"
    }
   ],
   "source": [
    "dfs"
   ]
  },
  {
   "cell_type": "code",
   "execution_count": 82,
   "metadata": {},
   "outputs": [],
   "source": [
    " \n",
    "    app = dash.Dash(__name__)\n",
    "\n",
    "    app.layout = html.Div([\n",
    "\n",
    "\n",
    "        dcc.Graph(id='our_graph', figure={}), \n",
    "    \n",
    "\n",
    "\n",
    "        html.Br(),\n",
    "        html.Label(['Choose type of production :'],style={'font-weight': 'bold', \"text-align\": \"center\"}),\n",
    "        dcc.Dropdown(id='energy_one',\n",
    "            options=[{'label':x, 'value':x} for x in dfs['Wind energy on land'].unique()],\n",
    "            value='Wind ene',\n",
    "            multi=False,\n",
    "            disabled=False,\n",
    "            clearable=True,\n",
    "            searchable=True,\n",
    "            placeholder='Choose type of energy',\n",
    "            className='form-dropdown',\n",
    "            style={'width':\"90%\"},\n",
    "            persistence='string',\n",
    "            persistence_type='memory'),\n",
    "         \n",
    "         \n",
    "          dcc.Dropdown(id='energy_two',\n",
    "            options=[{'label':x, 'value':x} for x in dfs['Wind energy at sea'].unique()],\n",
    "            value='Year',\n",
    "            multi=False,\n",
    "            disabled=False,\n",
    "            clearable=True,\n",
    "            searchable=True,\n",
    "            placeholder='Choose type of energy',\n",
    "            className='form-dropdown',\n",
    "            style={'width':\"90%\"},\n",
    "            persistence='string',\n",
    "            persistence_type='memory'),\n",
    "         \n",
    "             dcc.Dropdown(id='energy_three',\n",
    "            options=[{'label':x, 'value':x} for x in dfs['Solar power'].unique()],\n",
    "            value='Year',\n",
    "            multi=False,\n",
    "            disabled=False,\n",
    "            clearable=True,\n",
    "            searchable=True,\n",
    "            placeholder='Choose type of energy',\n",
    "            className='form-dropdown',\n",
    "            style={'width':\"90%\"},\n",
    "            persistence='string',\n",
    "            persistence_type='memory'),\n",
    "         \n",
    "             ],className='three columns')\n",
    "\n"
   ]
  },
  {
   "cell_type": "code",
   "execution_count": 83,
   "metadata": {},
   "outputs": [],
   "source": [
    "@app.callback(\n",
    "    [Output(component_id='our_graph', component_property='figure')],\n",
    "    [Input('energy_one','value'),\n",
    "     Input('energy_two','value'),\n",
    "     Input('energy_three','value')]\n",
    ")\n",
    "\n",
    "def build_graph(first_energy, second_energy, third_energy):\n",
    "    dfss = dfs[(dfs['Wind energy on land']==first_energy)|\n",
    "           (dfs['Wind energy at sea']==second_energy)|\n",
    "           (dfs['Solar power']==third_energy)]\n",
    "    \n",
    "    fig = px.line(dfss, x=\"Year\", y=\"Wind energy on land\", height=600)\n",
    "    fig.update_layout(yaxis={'title' :'Gross production'},\n",
    "                      title={'text':'Energy production',\n",
    "                      'font':{'size':28},'x':0.5,'xanchor':'center'})\n",
    "    \n",
    "    \n",
    "    return fig \n",
    "\n",
    "\n",
    "    \n",
    "    if __name__ == '__name__':\n",
    "        app.run_server(debug=True, use_reloader = False, port=8051)"
   ]
  },
  {
   "cell_type": "code",
   "execution_count": 71,
   "metadata": {},
   "outputs": [],
   "source": [
    "\n",
    "         "
   ]
  },
  {
   "cell_type": "code",
   "execution_count": null,
   "metadata": {},
   "outputs": [],
   "source": [
    "\n",
    "\n"
   ]
  },
  {
   "cell_type": "code",
   "execution_count": null,
   "metadata": {},
   "outputs": [],
   "source": []
  },
  {
   "cell_type": "code",
   "execution_count": null,
   "metadata": {},
   "outputs": [],
   "source": [
    "\n",
    "fig = px.line(dfs, x=\"Year\", y= \"Gross production\")\n",
    "fig.show()"
   ]
  },
  {
   "cell_type": "code",
   "execution_count": null,
   "metadata": {},
   "outputs": [],
   "source": [
    "dfs = dfs.groupby(['Year','Wind energy on land','Wind energy at sea', 'Solar power'], as_index=False)['Wind energy on land','Wind energy at sea', 'Solar power'].mean()"
   ]
  },
  {
   "cell_type": "code",
   "execution_count": null,
   "metadata": {},
   "outputs": [],
   "source": [
    "dfs"
   ]
  },
  {
   "cell_type": "code",
   "execution_count": null,
   "metadata": {},
   "outputs": [],
   "source": []
  },
  {
   "cell_type": "code",
   "execution_count": null,
   "metadata": {},
   "outputs": [],
   "source": []
  },
  {
   "cell_type": "code",
   "execution_count": null,
   "metadata": {},
   "outputs": [],
   "source": [
    "app.layout = html.Div([\n",
    "\n",
    "    html.Div([\n",
    "        dcc.Graph(id='our_graph')\n",
    "    ],className='nine columns'),\n",
    "    \n",
    "     html.Div([\n",
    "\n",
    "        html.Br(),\n",
    "        html.Label(['Choose type of production :'],style={'font-weight': 'bold', \"text-align\": \"center\"}),\n",
    "        dcc.Dropdown(id='energy one',\n",
    "            options=[{'label':x, 'value':x} for x in dfs['Wind energy on land'].unique()],\n",
    "            value='Wind energy on land',\n",
    "            multi=False,\n",
    "            disabled=False,\n",
    "            clearable=True,\n",
    "            searchable=True,\n",
    "            placeholder='Choose type of energy',\n",
    "            className='form-dropdown',\n",
    "            style={'width':\"90%\"},\n",
    "            persistence='string',\n",
    "            persistence_type='memory'),\n",
    "         \n",
    "         \n",
    "          dcc.Dropdown(id='energy two',\n",
    "            options=[{'label':x, 'value':x} for x in dfs['Wind energy at sea'].unique()],\n",
    "            value='Wind energy at sea',\n",
    "            multi=False,\n",
    "            disabled=False,\n",
    "            clearable=True,\n",
    "            searchable=True,\n",
    "            placeholder='Choose type of energy',\n",
    "            className='form-dropdown',\n",
    "            style={'width':\"90%\"},\n",
    "            persistence='string',\n",
    "            persistence_type='memory'),\n",
    "         \n",
    "             dcc.Dropdown(id='energy three',\n",
    "            options=[{'label':x, 'value':x} for x in dfs['Solar power'].unique()],\n",
    "            value='Solar power',\n",
    "            multi=False,\n",
    "            disabled=False,\n",
    "            clearable=True,\n",
    "            searchable=True,\n",
    "            placeholder='Choose type of energy',\n",
    "            className='form-dropdown',\n",
    "            style={'width':\"90%\"},\n",
    "            persistence='string',\n",
    "            persistence_type='memory'),\n",
    "         \n",
    "             ],className='three columns'),\n",
    "\n",
    "])\n",
    "         "
   ]
  },
  {
   "cell_type": "code",
   "execution_count": null,
   "metadata": {},
   "outputs": [],
   "source": [
    "@app.callback(\n",
    "    Output('our_graph','figure'),\n",
    "    [Input('energy one','value'),\n",
    "     Input('energy two','value'),\n",
    "     Input('energy three','value')]\n",
    ")\n",
    "\n",
    "def build_graph(first_energy, second_energy, third_energy):\n",
    "    dfss = dfs[(dfs['Wind energy on land']==first_energy)|\n",
    "           (df['Wind energy at sea']==second_energy)|\n",
    "           (df['Solar power']==third_energy)]\n",
    "    \n",
    "    fig = px.line(dfss, x=\"Year\", y=\"Gross production\", color='Solar power', height=600)\n",
    "fig.update_layout(yaxis={'title' :'Gross production'},\n",
    "                      title={'text':'Energy production',\n",
    "                      'font':{'size':28},'x':0.5,'xanchor':'center'})\n",
    "    return fig\n"
   ]
  },
  {
   "cell_type": "code",
   "execution_count": null,
   "metadata": {},
   "outputs": [],
   "source": [
    "dfs"
   ]
  },
  {
   "cell_type": "code",
   "execution_count": null,
   "metadata": {},
   "outputs": [],
   "source": [
    "w_e= (dfs['Wind energy at sea'], df['Wind energy on land'])"
   ]
  },
  {
   "cell_type": "code",
   "execution_count": null,
   "metadata": {},
   "outputs": [],
   "source": [
    "\n",
    "fig = px.line(dfs, x=\"Year\", y=\"Wind energy on land\", title='Wind energy on land')\n",
    "fig.show()"
   ]
  },
  {
   "cell_type": "code",
   "execution_count": null,
   "metadata": {},
   "outputs": [],
   "source": [
    "fig = px.line(df, x=\"Year\", y=\"Wind energy\", color='w_e')\n",
    "fig.show()"
   ]
  },
  {
   "cell_type": "code",
   "execution_count": null,
   "metadata": {},
   "outputs": [],
   "source": [
    "df_wl = { 'Wind energy on land':df[Range][ 'Wind energy on land'],\n",
    "         'Type of energy': ['Wind energy on land',\n",
    "                            'Wind energy on land',\n",
    "                            'Wind energy on land',\n",
    "                            'Wind energy on land',\n",
    "                            'Wind energy on land',\n",
    "                            'Wind energy on land',\n",
    "                            'Wind energy on land',\n",
    "                            'Wind energy on land',\n",
    "                            'Wind energy on land',\n",
    "                            'Wind energy on land',\n",
    "                            'Wind energy on land',\n",
    "                            'Wind energy on land',\n",
    "                            'Wind energy on land',\n",
    "                            'Wind energy on land',\n",
    "                            'Wind energy on land',\n",
    "                            'Wind energy on land',\n",
    "                            'Wind energy on land',\n",
    "                            'Wind energy on land',\n",
    "                            'Wind energy on land',\n",
    "                            'Wind energy on land',\n",
    "                            'Wind energy on land'\n",
    "            \n",
    "                           ]\n",
    "        }"
   ]
  },
  {
   "cell_type": "code",
   "execution_count": null,
   "metadata": {},
   "outputs": [],
   "source": [
    "df_wl"
   ]
  },
  {
   "cell_type": "code",
   "execution_count": null,
   "metadata": {},
   "outputs": [],
   "source": [
    "df_wl = pd.DataFrame(df_wl)"
   ]
  },
  {
   "cell_type": "code",
   "execution_count": null,
   "metadata": {},
   "outputs": [],
   "source": [
    "df_wl"
   ]
  },
  {
   "cell_type": "code",
   "execution_count": null,
   "metadata": {},
   "outputs": [],
   "source": [
    "df_ws ={ 'Wind energy at sea':df[Range][ 'Wind energy at sea'],\n",
    "         'Type of energy': ['Wind energy at sea',\n",
    "                            'Wind energy at sea',\n",
    "                            'Wind energy at sea',\n",
    "                            'Wind energy at sea',\n",
    "                            'Wind energy at sea',\n",
    "                            'Wind energy at sea',\n",
    "                            'Wind energy at sea',\n",
    "                            'Wind energy at sea',\n",
    "                            'Wind energy at sea',\n",
    "                            'Wind energy at sea',\n",
    "                            'Wind energy at sea',\n",
    "                            'Wind energy at sea',\n",
    "                            'Wind energy at sea',\n",
    "                            'Wind energy at sea',\n",
    "                            'Wind energy at sea',\n",
    "                            'Wind energy at sea',\n",
    "                            'Wind energy at sea',\n",
    "                            'Wind energy at sea',\n",
    "                            'Wind energy at sea',\n",
    "                            'Wind energy at sea',\n",
    "                            'Wind energy at sea'\n",
    "            \n",
    "                           ]\n",
    "        }"
   ]
  },
  {
   "cell_type": "code",
   "execution_count": null,
   "metadata": {},
   "outputs": [],
   "source": [
    "df_ws = pd.DataFrame(df_ws)"
   ]
  },
  {
   "cell_type": "code",
   "execution_count": null,
   "metadata": {},
   "outputs": [],
   "source": [
    "df_ws"
   ]
  },
  {
   "cell_type": "code",
   "execution_count": null,
   "metadata": {},
   "outputs": [],
   "source": [
    "df_sp ={ 'Solar power':df[Range][ 'Solar power'],\n",
    "         'Type of energy': ['Solar power',\n",
    "                            'Solar power',\n",
    "                            'Solar power',\n",
    "                            'Solar power',\n",
    "                            'Solar power',\n",
    "                            'Solar power',\n",
    "                            'Solar power',\n",
    "                            'Solar power',\n",
    "                            'Solar power',\n",
    "                            'Solar power',\n",
    "                            'Solar power',\n",
    "                            'Solar power',\n",
    "                            'Solar power',\n",
    "                            'Solar power',\n",
    "                            'Solar power',\n",
    "                            'Solar power',\n",
    "                            'Solar power',\n",
    "                            'Solar power',\n",
    "                            'Solar power',\n",
    "                            'Solar power',\n",
    "                            'Solar power'\n",
    "            \n",
    "                           ]\n",
    "        }"
   ]
  },
  {
   "cell_type": "code",
   "execution_count": null,
   "metadata": {},
   "outputs": [],
   "source": [
    "df_sp"
   ]
  },
  {
   "cell_type": "code",
   "execution_count": null,
   "metadata": {},
   "outputs": [],
   "source": [
    "df_sp = pd.DataFrame(df_sp)"
   ]
  },
  {
   "cell_type": "code",
   "execution_count": null,
   "metadata": {},
   "outputs": [],
   "source": [
    "df_sp"
   ]
  },
  {
   "cell_type": "code",
   "execution_count": null,
   "metadata": {},
   "outputs": [],
   "source": [
    "dfs_all=pd.merge( dfs, df_sp, df_ws, df_wl)"
   ]
  },
  {
   "cell_type": "code",
   "execution_count": null,
   "metadata": {},
   "outputs": [],
   "source": [
    "dfs_all"
   ]
  },
  {
   "cell_type": "code",
   "execution_count": null,
   "metadata": {},
   "outputs": [],
   "source": []
  }
 ],
 "metadata": {
  "kernelspec": {
   "display_name": "Python 3",
   "language": "python",
   "name": "python3"
  },
  "language_info": {
   "codemirror_mode": {
    "name": "ipython",
    "version": 3
   },
   "file_extension": ".py",
   "mimetype": "text/x-python",
   "name": "python",
   "nbconvert_exporter": "python",
   "pygments_lexer": "ipython3",
   "version": "3.8.5"
  }
 },
 "nbformat": 4,
 "nbformat_minor": 4
}
